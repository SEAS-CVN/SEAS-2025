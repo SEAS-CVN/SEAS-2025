{
  "cells": [
    {
      "cell_type": "markdown",
      "metadata": {},
      "source": [
        "# NumPy"
      ]
    },
    {
      "cell_type": "markdown",
      "metadata": {
        "id": "NlGForCimjBL"
      },
      "source": [
        "## Exercises / Bài tập"
      ]
    },
    {
      "cell_type": "markdown",
      "metadata": {
        "id": "Ur1UlSFPTu6O"
      },
      "source": [
        "**Exercise 1.** Create a 3d array of shape (2, 2, 2), containing 8 values. Access individual elements and slices."
      ]
    },
    {
      "cell_type": "markdown",
      "metadata": {
        "id": "gqTcjoqgaxLG"
      },
      "source": [
        "**Bài 1**. Tạo một mảng 3D có kích thước (2, 2, 2), chứa 8 giá trị. Truy cập từng phần tử riêng lẻ và thực hiện cắt lát (slicing)."
      ]
    },
    {
      "cell_type": "code",
      "execution_count": null,
      "metadata": {
        "id": "v1ed4-vLUWXQ"
      },
      "outputs": [],
      "source": [
        "import numpy as np\n",
        "\n",
        "arr = np.random.rand(2, 2, 2)\n",
        "print(arr)\n",
        "print(arr[1, 1])\n",
        "print(arr[1, :, -1])"
      ]
    },
    {
      "cell_type": "markdown",
      "metadata": {
        "id": "s_ksfCDJzyxI"
      },
      "source": [
        "**Exercise 2.** Rewrite the relu function (see Python section) using [np.maximum](https://numpy.org/doc/stable/reference/generated/numpy.maximum.html). Check that it works on both a single value and on an array of values."
      ]
    },
    {
      "cell_type": "markdown",
      "metadata": {
        "id": "THAaf0Isa2bf"
      },
      "source": [
        "**Bài 2**. Viết lại hàm ReLU (tham khảo phần Python) bằng cách sử dụng [np.maximum](https://numpy.org/doc/stable/reference/generated/numpy.maximum.html). Kiểm tra xem hàm có hoạt động với cả một giá trị đơn lẻ và một mảng giá trị hay không."
      ]
    },
    {
      "cell_type": "code",
      "execution_count": null,
      "metadata": {
        "id": "QtSTxH5Dz6f8"
      },
      "outputs": [],
      "source": [
        "import numpy as np\n",
        "\n",
        "def relu_numpy(x):\n",
        "  return np.maximum(0, x)\n",
        "\n",
        "print(relu_numpy(3))  \n",
        "print(relu_numpy(np.array([1, -3, 2.5])))"
      ]
    },
    {
      "cell_type": "markdown",
      "metadata": {
        "id": "wggUjpyRz7fb"
      },
      "source": [
        "**Exercise 3.** Rewrite the Euclidean norm of a vector (1d array) using NumPy (without for loop)"
      ]
    },
    {
      "cell_type": "markdown",
      "metadata": {
        "id": "CCllvLfcbC19"
      },
      "source": [
        "**Bài 3**. Viết lại chuẩn Euclid của một vectơ (mảng 1D) bằng NumPy mà không sử dụng vòng lặp for."
      ]
    },
    {
      "cell_type": "code",
      "execution_count": null,
      "metadata": {
        "id": "p5BLcHOD0Bhy"
      },
      "outputs": [],
      "source": [
        "import numpy as np\n",
        "\n",
        "def euclidean_norm_numpy(x):\n",
        "  return np.sqrt(np.sum(x**2))\n",
        "\n",
        "my_vector = np.array([0.5, -1.2, 3.3, 4.5])\n",
        "euclidean_norm_numpy(my_vector)"
      ]
    },
    {
      "cell_type": "markdown",
      "metadata": {
        "id": "01IteVJ60Il2"
      },
      "source": [
        "**Exercise 4.** Write a function that computes the Euclidean norms of a matrix (2d array) in a row-wise fashion. Hint: use the `axis` argument of [np.sum](https://numpy.org/doc/stable/reference/generated/numpy.sum.html)."
      ]
    },
    {
      "cell_type": "markdown",
      "metadata": {
        "id": "6CvO9BhubGvW"
      },
      "source": [
        "**Bài 4**. Viết một hàm tính chuẩn Euclid của từng hàng trong một ma trận (mảng 2D). Gợi ý: sử dụng đối số axis của [np.sum](https://numpy.org/doc/stable/reference/generated/numpy.sum.html)."
      ]
    },
    {
      "cell_type": "code",
      "execution_count": null,
      "metadata": {
        "id": "at5lWRNM0SVG"
      },
      "outputs": [],
      "source": [
        "import numpy as np\n",
        "\n",
        "def euclidean_norm_2d(X):\n",
        "  return np.sqrt(np.sum(X**2, axis=1))\n",
        "\n",
        "my_matrix = np.array([[0.5, -1.2, 4.5],\n",
        "                      [-3.2, 1.9, 2.7]])\n",
        "euclidean_norm_2d(my_matrix)"
      ]
    },
    {
      "cell_type": "markdown",
      "metadata": {
        "id": "yd1ZoByo436x"
      },
      "source": [
        "**Exercise 5.** Compute the mean value of the features in the [iris dataset](https://scikit-learn.org/stable/modules/generated/sklearn.datasets.load_iris.html). Hint: use the `axis` argument on [np.mean](https://numpy.org/doc/stable/reference/generated/numpy.mean.html)."
      ]
    },
    {
      "cell_type": "markdown",
      "metadata": {
        "id": "n6B0oRT_bNls"
      },
      "source": [
        "**Bài 5**. Tính giá trị trung bình của các đặc trưng trong tập dữ liệu [iris](https://scikit-learn.org/stable/modules/generated/sklearn.datasets.load_iris.html). Gợi ý: sử dụng đối số axis của [np.mean](https://numpy.org/doc/stable/reference/generated/numpy.mean.html)."
      ]
    },
    {
      "cell_type": "code",
      "execution_count": null,
      "metadata": {
        "colab": {
          "base_uri": "https://localhost:8080/",
          "height": 34
        },
        "id": "fYFVobkP5JK6",
        "outputId": "91504ff7-ad59-4eb7-f940-cb2e068e1b6f"
      },
      "outputs": [],
      "source": [
        "import numpy as np\n",
        "from sklearn.datasets import load_iris\n",
        "\n",
        "X, y = load_iris(return_X_y=True)\n",
        "np.mean(X, axis=0)"
      ]
    },
    {
      "cell_type": "markdown",
      "metadata": {
        "id": "7Jt6T3kJ8I2T"
      },
      "source": [
        "# Matplotlib"
      ]
    },
    {
      "cell_type": "markdown",
      "metadata": {
        "id": "uVWuIUs2AQ5a"
      },
      "source": [
        "## Exercises / Bài tập\n",
        "\n"
      ]
    },
    {
      "cell_type": "markdown",
      "metadata": {
        "id": "1X6-g6zgCwJd"
      },
      "source": [
        "**Exercise 1.** Plot the relu and the [softplus](https://en.wikipedia.org/wiki/Rectifier_(neural_networks)#Softplus) functions on the same graph."
      ]
    },
    {
      "cell_type": "markdown",
      "metadata": {
        "id": "xW7FVDIecQeS"
      },
      "source": [
        "**Bài 1:** Vẽ đồ thị của hai hàm ReLU và [softplus](https://en.wikipedia.org/wiki/Rectifier_(neural_networks)#Softplus) trên cùng một biểu đồ."
      ]
    },
    {
      "cell_type": "code",
      "execution_count": null,
      "metadata": {
        "id": "Ob6HZUX0DJ8y"
      },
      "outputs": [],
      "source": [
        "import numpy as np\n",
        "import matplotlib.pyplot as plt\n",
        "\n",
        "x = np.linspace(-5, 5, 100)\n",
        "relu = np.maximum(0, x)\n",
        "softplus = np.log(1 + np.exp(x))\n",
        "\n",
        "plt.plot(x, relu, label='ReLU')\n",
        "plt.plot(x, softplus, label='Softplus')\n",
        "plt.legend()\n",
        "plt.grid(True)\n",
        "plt.show()"
      ]
    },
    {
      "cell_type": "markdown",
      "metadata": {
        "id": "vpRGfz0aDW3l"
      },
      "source": [
        "What is the main difference between the two functions?"
      ]
    },
    {
      "cell_type": "markdown",
      "metadata": {
        "id": "wFFv2jhwca7O"
      },
      "source": [
        "Sự khác biệt chính giữa hai hàm này là gì?"
      ]
    },
    {
      "cell_type": "markdown",
      "metadata": {
        "id": "JjDeIufRAYVL"
      },
      "source": [
        "**Exercise 2.** Repeat the same scatter plot but using the [digits dataset](https://scikit-learn.org/stable/modules/generated/sklearn.datasets.load_digits.html) instead."
      ]
    },
    {
      "cell_type": "markdown",
      "metadata": {
        "id": "N2CUaIL6cfvP"
      },
      "source": [
        "**Bài 2:** Lặp lại biểu đồ phân tán như đã làm với tập dữ liệu Iris, nhưng lần này sử dụng tập dữ liệu [Digits](https://scikit-learn.org/stable/modules/generated/sklearn.datasets.load_digits.html)."
      ]
    },
    {
      "cell_type": "code",
      "execution_count": null,
      "metadata": {
        "id": "-JU3TXCBBB0c"
      },
      "outputs": [],
      "source": [
        "from sklearn.datasets import load_digits\n",
        "X, y = load_digits(return_X_y=True)\n",
        "\n",
        "plt.figure()\n",
        "for cl in np.unique(y):\n",
        "    plt.scatter(X[y==cl, 34], X[y==cl, 35], c=\"C\" + str(cl))\n",
        "plt.show()"
      ]
    },
    {
      "cell_type": "markdown",
      "metadata": {
        "id": "w7wPWdmXBQA2"
      },
      "source": [
        "Are pixel values good features for classifying samples?"
      ]
    },
    {
      "cell_type": "markdown",
      "metadata": {
        "id": "Sf1NkEk9cs0K"
      },
      "source": [
        "Các giá trị pixel có phải là đặc trưng tốt để phân loại mẫu không?"
      ]
    },
    {
      "cell_type": "markdown",
      "metadata": {},
      "source": [
        "**Exercise 3.** Draw a simple line plot\n",
        "Use Matplotlib to draw a line plot showing the average temperature over 5 consecutive days in a week. The temperature data is as follows:\n",
        "- Day 1: 28°C\n",
        "- Day 2: 30°C\n",
        "- Day 3: 29°C\n",
        "- Day 4: 31°C\n",
        "- Day 5: 27°C\n",
        "\n",
        "Requirements:\n",
        "- The x-axis represents the days (1, 2, 3, 4, 5).\n",
        "- The y-axis represents the temperature (°C).\n",
        "- Label the x-axis as \"Day\" and the y-axis as \"Temperature (°C)\".\n",
        "- Set the title as \"Temperature Over 5 Days\".\n",
        "- Use a red line."
      ]
    },
    {
      "cell_type": "markdown",
      "metadata": {},
      "source": [
        "**Bài 3:** Sử dụng Matplotlib để vẽ biểu đồ đường thể hiện nhiệt độ trung bình của 5 ngày liên tiếp trong tuần. Dữ liệu nhiệt độ như sau:\n",
        "- Ngày 1: 28°C\n",
        "- Ngày 2: 30°C\n",
        "- Ngày 3: 29°C\n",
        "- Ngày 4: 31°C\n",
        "- Ngày 5: 27°C\n",
        "\n",
        "Yêu cầu:\n",
        "- Trục x là các ngày (1, 2, 3, 4, 5).\n",
        "- Trục y là nhiệt độ (°C).\n",
        "- Đặt nhãn trục x là \"Ngày\", trục y là \"Nhiệt độ (°C)\".\n",
        "- Đặt tiêu đề là \"Nhiệt độ trong 5 ngày\".\n",
        "- Vẽ đường màu đỏ."
      ]
    },
    {
      "cell_type": "code",
      "execution_count": null,
      "metadata": {},
      "outputs": [],
      "source": [
        "import matplotlib.pyplot as plt\n",
        "\n",
        "days = [1, 2, 3, 4, 5]\n",
        "temperatures = [28, 30, 29, 31, 27]\n",
        "\n",
        "plt.plot(days, temperatures, color='red')\n",
        "\n",
        "plt.xlabel(\"Day\")\n",
        "plt.ylabel(\"Temperature (°C)\")\n",
        "plt.title(\"Temperature Over 5 Days\")\n",
        "\n",
        "plt.xticks([1, 2, 3, 4, 5])\n",
        "\n",
        "plt.show()"
      ]
    }
  ],
  "metadata": {
    "colab": {
      "provenance": []
    },
    "kernelspec": {
      "display_name": "Python 3",
      "name": "python3"
    },
    "language_info": {
      "name": "python"
    }
  },
  "nbformat": 4,
  "nbformat_minor": 0
}
