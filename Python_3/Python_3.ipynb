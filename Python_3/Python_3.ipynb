{
 "cells": [
  {
   "cell_type": "markdown",
   "id": "d98fecef",
   "metadata": {},
   "source": [
    "# Introduction to Data Structures (Giới thiệu Data Structures)"
   ]
  },
  {
   "cell_type": "markdown",
   "id": "5e14752c",
   "metadata": {},
   "source": [
    "## Linked Lists (Danh sách liên kết đơn)"
   ]
  },
  {
   "cell_type": "markdown",
   "id": "ca1aad1e",
   "metadata": {},
   "source": [
    "### Definition (Định nghĩa)\n",
    "A linked list is a collection of elements in which each element (except the last) points to the next element.\n",
    "\n",
    "Danh sách liên kết là một tập hợp các phần tử, trong đó mỗi phần tử (trừ phần tử cuối cùng) sẽ chỉ đến phần tử tiếp theo.\n",
    "\n",
    "You can think of a linked list as a chain of people, where each person (except the very last person in the chain) is holding the hand of the next person\n",
    "\n",
    "Bạn có thể tưởng tượng nó giống như một chuỗi người nối nhau bằng cách nắm tay – mỗi người (trừ người cuối cùng) đều đang nắm tay người tiếp theo.\n",
    "\n",
    "### Implementation (Thực hiện)\n",
    "\n",
    "A linked list can be implemented with a class, as follows.\n",
    "\n",
    "Danh sách liên kết có thể được triển khai bằng một lớp, như sau:"
   ]
  },
  {
   "cell_type": "code",
   "execution_count": null,
   "id": "d4a33f6e",
   "metadata": {
    "vscode": {
     "languageId": "plaintext"
    }
   },
   "outputs": [],
   "source": [
    "#persistent\n",
    "class LinkedListElement:\n",
    "\n",
    "    def __init__(self, value):\n",
    "    self.value = value\n",
    "    self.next = None"
   ]
  },
  {
   "cell_type": "code",
   "execution_count": null,
   "id": "64ce11f3",
   "metadata": {
    "vscode": {
     "languageId": "plaintext"
    }
   },
   "outputs": [],
   "source": [
    "class LinkedList:\n",
    "\n",
    "  def __init__(self):\n",
    "    self.first = None"
   ]
  },
  {
   "cell_type": "code",
   "execution_count": null,
   "id": "a97cb54c",
   "metadata": {
    "vscode": {
     "languageId": "plaintext"
    }
   },
   "outputs": [],
   "source": [
    "my_linked_list = LinkedList()\n",
    "\n",
    "my_linked_list.first = LinkedListElement(2)\n",
    "print('The first value in the linked list is %d.' % my_linked_list.first.value)\n",
    "\n",
    "my_linked_list.first.next = LinkedListElement(3)\n",
    "print('The next value in the linked list is %d.' %\n",
    "      my_linked_list.first.next.value)"
   ]
  }
 ],
 "metadata": {
  "language_info": {
   "name": "python"
  }
 },
 "nbformat": 4,
 "nbformat_minor": 5
}
