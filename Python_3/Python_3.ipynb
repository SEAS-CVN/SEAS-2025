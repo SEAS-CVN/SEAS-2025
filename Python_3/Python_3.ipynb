{
 "cells": [
  {
   "cell_type": "markdown",
   "id": "d98fecef",
   "metadata": {},
   "source": [
    "# Introduction to Data Structures (Giới thiệu Data Structures)"
   ]
  },
  {
   "cell_type": "markdown",
   "id": "c758dfe6",
   "metadata": {},
   "source": [
    "## Linked Lists (Danh sách liên kết)"
   ]
  },
  {
   "cell_type": "markdown",
   "id": "5e14752c",
   "metadata": {},
   "source": [
    "### Lesson Overview (Tổng quan bài học)"
   ]
  },
  {
   "cell_type": "markdown",
   "id": "c753e4ea",
   "metadata": {},
   "source": [
    "In an earlier lesson, you were introduced to arrays. In an array:\n",
    "\n",
    "- Each element's place is defined by a location in memory.\n",
    "- The computer needs to store not only the *value* of each element, but the *ordering* of the locations in memory.\n",
    "\n",
    "Trong bài học trước, chúng mình đã được giới thiệu về mảng. Trong một mảng:\n",
    "\n",
    "- Vị trí của từng phần tử được xác định bởi một vị trí trong bộ nhớ.\n",
    "- Máy tính cần lưu trữ không chỉ giá trị của từng phần tử, mà còn cả thứ tự của các vị trí trong bộ nhớ."
   ]
  },
  {
   "cell_type": "markdown",
   "id": "350b73bf",
   "metadata": {},
   "source": [
    "While an array's structure and ordering makes accessing elements simple, it makes some basic operations (like inserting and removing elements) non-trivial and inefficient. In fact, there is a particular data structure that is especially good at inserting and removing new elements efficiently, called a **linked list**.\n",
    "\n",
    "Mặc dù cấu trúc và thứ tự của mảng giúp việc truy cập các phần tử trở nên đơn giản, nhưng lại khiến một số thao tác cơ bản (như chèn và xoá phần tử) trở nên phức tạp và kém hiệu quả. Thực tế, có một cấu trúc dữ liệu đặc biệt hiệu quả trong việc chèn và xoá phần tử mới, và đó chính là **danh sách liên kết** (linked list)."
   ]
  },
  {
   "cell_type": "markdown",
   "id": "ca1aad1e",
   "metadata": {},
   "source": [
    "### Definition (Định nghĩa)"
   ]
  },
  {
   "cell_type": "markdown",
   "id": "26dfaeb4",
   "metadata": {},
   "source": [
    "> A linked list is a collection of elements in which each element (except the last) points to the next element.\n",
    "\n",
    "> Danh sách liên kết là một tập hợp các phần tử, trong đó mỗi phần tử (trừ phần tử cuối cùng) sẽ chỉ đến phần tử tiếp theo."
   ]
  },
  {
   "cell_type": "markdown",
   "id": "f4ac302d",
   "metadata": {},
   "source": [
    "You can think of a linked list as a chain of people, where each person (except the very last person in the chain) is holding the hand of the next person\n",
    "\n",
    "Bạn có thể tưởng tượng nó giống như một chuỗi người nối nhau bằng cách nắm tay – mỗi người (trừ người cuối cùng) đều đang nắm tay người tiếp theo."
   ]
  },
  {
   "cell_type": "markdown",
   "id": "b9009a17",
   "metadata": {},
   "source": [
    "### Implementation (Thực hiện)"
   ]
  },
  {
   "cell_type": "markdown",
   "id": "22b8f088",
   "metadata": {},
   "source": [
    "A linked list can be implemented with a class, as follows.\n",
    "\n",
    "Danh sách liên kết có thể được triển khai bằng một lớp, như sau:"
   ]
  },
  {
   "cell_type": "code",
   "execution_count": null,
   "id": "d4a33f6e",
   "metadata": {
    "vscode": {
     "languageId": "plaintext"
    }
   },
   "outputs": [],
   "source": [
    "#persistent\n",
    "class LinkedListElement:\n",
    "\n",
    "  def __init__(self, value):\n",
    "    self.value = value\n",
    "    self.next = None"
   ]
  },
  {
   "cell_type": "code",
   "execution_count": null,
   "id": "64ce11f3",
   "metadata": {
    "vscode": {
     "languageId": "plaintext"
    }
   },
   "outputs": [],
   "source": [
    "class LinkedList:\n",
    "\n",
    "  def __init__(self):\n",
    "    self.first = None"
   ]
  },
  {
   "cell_type": "code",
   "execution_count": null,
   "id": "a97cb54c",
   "metadata": {
    "vscode": {
     "languageId": "plaintext"
    }
   },
   "outputs": [],
   "source": [
    "my_linked_list = LinkedList()\n",
    "\n",
    "my_linked_list.first = LinkedListElement(2)\n",
    "print('The first value in the linked list is %d.' % my_linked_list.first.value)\n",
    "\n",
    "my_linked_list.first.next = LinkedListElement(3)\n",
    "print('The next value in the linked list is %d.' %\n",
    "      my_linked_list.first.next.value)"
   ]
  },
  {
   "cell_type": "markdown",
   "id": "2f1b9889",
   "metadata": {},
   "source": [
    "### Question 1"
   ]
  },
  {
   "cell_type": "markdown",
   "id": "5c126816",
   "metadata": {},
   "source": [
    "Which *one* of the following best defines a linked list?\n",
    "\n",
    "Sự lựa chọn *duy nhất* nào trong số những phương án dưới đây định nghĩa chính xác nhất về danh sách liên kết?"
   ]
  },
  {
   "cell_type": "markdown",
   "id": "c26d53ab",
   "metadata": {},
   "source": [
    "* A collection of elements in which each element (except the first) points to the previous element\n",
    "  * Một tập hợp các phần tử trong đó mỗi phần tử (ngoại trừ phần tử đầu tiên) trỏ đến phần tử trước đó\n",
    "* A collection of elements in which each element (except the last) points to the next element\n",
    "  * Một tập hợp các phần tử trong đó mỗi phần tử (ngoại trừ phần tử cuối cùng) trỏ đến phần tử tiếp theo\n",
    "* A collection of elements in which each element (except the first and last) points to the previous and next element\n",
    "  * Một tập hợp các phần tử trong đó mỗi phần tử (ngoại trừ phần tử đầu tiên và cuối cùng) trỏ đến phần tử trước đó và tiếp theo\n",
    "* A collection of elements in which each element is referenced only by memory, not by value\n",
    "  * Một tập hợp các phần tử trong đó mỗi phần tử chỉ được tham chiếu bởi bộ nhớ, không phải bởi giá trị"
   ]
  },
  {
   "cell_type": "markdown",
   "id": "e260fd9b",
   "metadata": {},
   "source": [
    "### Question 2"
   ]
  },
  {
   "cell_type": "markdown",
   "id": "f05a19d5",
   "metadata": {},
   "source": [
    "Consider the following linked list implementation.\n",
    "\n",
    "Xem xét triển khai danh sách liên kết sau."
   ]
  },
  {
   "cell_type": "code",
   "execution_count": null,
   "id": "290fe1ba",
   "metadata": {
    "vscode": {
     "languageId": "plaintext"
    }
   },
   "outputs": [],
   "source": [
    "```python\n",
    "class LinkedListElement:\n",
    "\n",
    "  def __init__(self, value):\n",
    "    self.value = value\n",
    "    self.next = None\n",
    "\n",
    "\n",
    "class LinkedList:\n",
    "\n",
    "  def __init__(self):\n",
    "    self.first = None\n",
    "```"
   ]
  },
  {
   "cell_type": "markdown",
   "id": "ac472b52",
   "metadata": {},
   "source": [
    "Suppose that `linked_list` is an instance of the `LinkedList` class. Which of the following loop structures allows you to iterate over the elements of `linked_list` without throwing an error? There may be more than one correct response.\n",
    "\n",
    "Giả sử `linked_list` là một thể hiện của lớp `LinkedList`. Cấu trúc vòng lặp nào dưới đây cho phép bạn duyệt qua các phần tử của `linked_list` mà không gây lỗi? Có thể có nhiều đáp án đúng.\n",
    "\n",
    "**a)**\n",
    "```python\n",
    "for el in linked_list:\n",
    "  # ...\n",
    "```\n",
    "\n",
    "**b)**\n",
    "\n",
    "```python\n",
    "for el in linked_list:\n",
    "  if el is not None:\n",
    "    # ...\n",
    "```\n",
    "\n",
    "**c)**\n",
    "```python\n",
    "el = linked_list.first\n",
    "while el.next is not None:\n",
    "  # ...\n",
    "  el = el.next\n",
    "```\n",
    "\n",
    "**d)**\n",
    "```python\n",
    "el = linked_list.first\n",
    "while el is not None:\n",
    "  # ...\n",
    "  el = el.next\n",
    "```"
   ]
  },
  {
   "cell_type": "markdown",
   "id": "87b28a5f",
   "metadata": {},
   "source": [
    "### Question 3"
   ]
  },
  {
   "cell_type": "markdown",
   "id": "9c765b30",
   "metadata": {},
   "source": [
    "Which of the following array operations can you also do with a linked list (though not necessarily with the same syntax)? There may be more than one correct response.\n",
    "\n",
    "Câu nào sau đây là các thao tác mảng mà bạn cũng có thể thực hiện với danh sách liên kết (dù không nhất thiết với cú pháp giống nhau)? Có thể có nhiều đáp án đúng."
   ]
  },
  {
   "cell_type": "markdown",
   "id": "8280045b",
   "metadata": {},
   "source": [
    "**a)** Calculate the length (Tính độ dài)\n",
    "\n",
    "**b)** Access an element by index (Truy cập phần tử theo chỉ số)\n",
    "\n",
    "**c)** Iterate over elements in a loop (Duyệt qua các phần tử trong một vòng lặp)\n",
    "\n",
    "**d)** Access a slice (or subset) by indices (Truy cập một phần tử con (hoặc một tập con) qua chỉ số)\n",
    "\n",
    "**e)** Store any data type (Lưu trữ bất kỳ loại dữ liệu nào)\n",
    "\n",
    "**f)** Append a new element (Thêm một phần tử mới)"
   ]
  },
  {
   "cell_type": "markdown",
   "id": "2a7d31af",
   "metadata": {},
   "source": [
    "### Question 4"
   ]
  },
  {
   "cell_type": "markdown",
   "id": "3902863b",
   "metadata": {},
   "source": [
    "In which of the following use cases would a linked list be more appropriate than an array? There may be more than one correct response.\n",
    "\n",
    "Trong các trường hợp sử dụng dưới đây, trường hợp nào danh sách liên kết sẽ phù hợp hơn mảng? Có thể có nhiều đáp án đúng."
   ]
  },
  {
   "cell_type": "markdown",
   "id": "3fe865e2",
   "metadata": {},
   "source": [
    "**a)** Inserting an element in the middle of the data structure (Chèn một phần tử vào giữa cấu trúc dữ liệu)\n",
    "\n",
    "**b)** Removing an element from the middle of the data structure (Xoá một phần tử khỏi giữa cấu trúc dữ liệu)\n",
    "\n",
    "**c)** Accessing an element from the middle of the data structure (Truy cập một phần tử từ giữa cấu trúc dữ liệu)\n",
    "\n",
    "**d)** Storing a \"queue\" data structure whereby elements that join the queue most recently have to wait the longest before leaving the queue (Lưu trữ một cấu trúc dữ liệu \"hàng đợi\", trong đó các phần tử gia nhập hàng đợi gần đây nhất phải chờ lâu nhất trước khi rời khỏi hàng đợi)"
   ]
  },
  {
   "cell_type": "markdown",
   "id": "a09d4355",
   "metadata": {},
   "source": [
    "### Question 5"
   ]
  },
  {
   "cell_type": "markdown",
   "id": "e2785c27",
   "metadata": {},
   "source": [
    "Write a method to print the values of an entire linked list, separated by commas.\n",
    "\n",
    "Viết một phương thức để in giá trị của toàn bộ danh sách liên kết, cách nhau bởi dấu phẩy."
   ]
  },
  {
   "cell_type": "markdown",
   "id": "ab51be04",
   "metadata": {},
   "source": [
    "For example, if you have the following linked list:\n",
    "Ví dụ, nếu bạn có danh sách liên kết sau:\n",
    "\n",
    "```python \n",
    "my_linked_list = LinkedList()\n",
    "my_linked_list.first = LinkedListElement(2)\n",
    "my_linked_list.first.next = LinkedListElement(3)\n",
    "my_linked_list.first.next.next = LinkedListElement(5)\n",
    "```"
   ]
  },
  {
   "cell_type": "markdown",
   "id": "1a9312c6",
   "metadata": {},
   "source": [
    "`my_linked_list.print()` should print `2, 3, 5,`. (For the purposes of this exercise, keep the trailing comma at the end of the last element being printed.)\n",
    "\n",
    "`my_linked_list.print()` nên in ra `2, 3, 5,`. (Vì mục đích bài tập này, giữ lại dấu phẩy sau phần tử cuối cùng khi in ra.)"
   ]
  },
  {
   "cell_type": "markdown",
   "id": "f78110c9",
   "metadata": {},
   "source": [
    "### Question 6"
   ]
  },
  {
   "cell_type": "markdown",
   "id": "ba560f1a",
   "metadata": {},
   "source": [
    "Which *one* of the following best defines a doubly linked list?\n",
    "\n",
    "Cái nào một trong số những cái dưới đây định nghĩa chính xác nhất về danh sách liên kết đôi?"
   ]
  },
  {
   "cell_type": "markdown",
   "id": "0bc3c085",
   "metadata": {},
   "source": [
    "**a)** A data structure that contains two linked lists (Một cấu trúc dữ liệu chứa hai danh sách liên kết)\n",
    "\n",
    "**b)** A data structure in which each element points to the next element (Một cấu trúc dữ liệu trong đó mỗi phần tử trỏ đến phần tử tiếp theo)\n",
    "\n",
    "**c)** A data structure in which each element points to the previous element (Một cấu trúc dữ liệu trong đó mỗi phần tử trỏ đến phần tử trước đó)\n",
    "\n",
    "**d)** A data structure in which each element points to the next and previous element (Một cấu trúc dữ liệu trong đó mỗi phần tử trỏ đến phần tử tiếp theo và phần tử trước đó)\n",
    "\n",
    "**e)** A data structure in which each element points to the first and last element (Một cấu trúc dữ liệu trong đó mỗi phần tử trỏ đến phần tử đầu tiên và phần tử cuối cùng)"
   ]
  },
  {
   "cell_type": "markdown",
   "id": "dcb2753a",
   "metadata": {},
   "source": [
    "### Question 7"
   ]
  },
  {
   "cell_type": "markdown",
   "id": "4812b7d7",
   "metadata": {},
   "source": [
    "Which of the following statements comparing singly linked lists and doubly linked lists are true? There may be more than one correct response.\n",
    "\n",
    "Câu nào dưới đây so sánh danh sách liên kết đơn và danh sách liên kết đôi là đúng? Có thể có nhiều đáp án đúng."
   ]
  },
  {
   "cell_type": "markdown",
   "id": "d0c60d38",
   "metadata": {},
   "source": [
    "**a)** While you cannot access elements by index in a singly linked list, you can in a doubly linked list (Mặc dù bạn không thể truy cập các phần tử theo chỉ số trong danh sách liên kết đơn, nhưng bạn có thể làm điều đó trong danh sách liên kết đôi)\n",
    "\n",
    "**b)** Doubly linked lists require as much space as singly linked lists (Danh sách liên kết đôi yêu cầu không gian nhiều như danh sách liên kết đơn)\n",
    "\n",
    "**c)** Both singly and doubly linked lists allow you to iterate forward through elements (from first to last) (Cả danh sách liên kết đơn và danh sách liên kết đôi đều cho phép bạn duyệt qua các phần tử theo chiều tiến (từ đầu đến cuối))\n",
    "\n",
    "**d)** Both singly and doubly linked lists allow you to iterate backwards through elements (from last to first) (Cả danh sách liên kết đơn và danh sách liên kết đôi đều cho phép bạn duyệt qua các phần tử theo chiều lùi (từ cuối đến đầu))\n",
    "\n",
    "**e)** Inserting and removing elements requires more operations for a doubly linked list than for a singly linked list (Việc chèn và xoá phần tử yêu cầu nhiều thao tác hơn đối với danh sách liên kết đôi so với danh sách liên kết đơn)"
   ]
  },
  {
   "cell_type": "markdown",
   "id": "4f345643",
   "metadata": {},
   "source": [
    "### Question 8"
   ]
  },
  {
   "cell_type": "markdown",
   "id": "2d2f66c7",
   "metadata": {},
   "source": [
    "Write a method to print the values of an entire doubly linked list starting at the first element and moving to the end. Each element should be on its own line.\n",
    "\n",
    "Viết một phương thức để in giá trị của toàn bộ danh sách liên kết đôi, bắt đầu từ phần tử đầu tiên và di chuyển đến cuối. Mỗi phần tử nên được in trên một dòng riêng biệt."
   ]
  },
  {
   "cell_type": "markdown",
   "id": "2d04cf99",
   "metadata": {},
   "source": [
    "### Question 9"
   ]
  },
  {
   "cell_type": "markdown",
   "id": "8087e81d",
   "metadata": {},
   "source": [
    "Write a method to print the values of an entire doubly linked list starting at the *last* element and moving to the front. Each element should be on its own line.\n",
    "\n",
    "Viết một phương thức để in giá trị của toàn bộ danh sách liên kết đôi, bắt đầu từ phần tử *cuối* và di chuyển về phía trước. Mỗi phần tử nên được in trên một dòng riêng biệt."
   ]
  },
  {
   "cell_type": "markdown",
   "id": "cb09ca79",
   "metadata": {},
   "source": [
    "# Stacks and Queues (Ngăn xếp và Hàng đợi)"
   ]
  },
  {
   "cell_type": "markdown",
   "id": "b93e7f84",
   "metadata": {},
   "source": [
    "### Question 1"
   ]
  },
  {
   "cell_type": "markdown",
   "id": "2e94f0e3",
   "metadata": {},
   "source": [
    "Which *one* of the following best defines a stack?\n",
    "\n",
    "Phương án *duy nhất* nào trong số những cái dưới đây định nghĩa chính xác nhất về ngăn xếp (stack)?"
   ]
  },
  {
   "cell_type": "markdown",
   "id": "8425f574",
   "metadata": {},
   "source": [
    "**a)** A data structure in which you can only remove the object that has been in the stack the longest (Một cấu trúc dữ liệu trong đó bạn chỉ có thể xóa đối tượng đã ở trong ngăn xếp lâu nhất)\n",
    "\n",
    "**b)** A data structure in which you can only remove the object that has most recently been added (Một cấu trúc dữ liệu trong đó bạn chỉ có thể xóa đối tượng đã được thêm vào gần đây nhất)\n",
    "\n",
    "**c)** A data structure in which you can only remove an object once it has been in the stack a certain amount of time (Một cấu trúc dữ liệu trong đó bạn chỉ có thể xóa một đối tượng sau khi nó đã ở trong ngăn xếp một khoảng thời gian nhất định)\n",
    "\n",
    "**d)** A data structure in which you can never remove an object once it has been in the stack a certain amount of time (Một cấu trúc dữ liệu trong đó bạn không bao giờ có thể xóa một đối tượng sau khi nó đã ở trong ngăn xếp một khoảng thời gian nhất định)"
   ]
  },
  {
   "cell_type": "markdown",
   "id": "9f00559b",
   "metadata": {},
   "source": [
    "### Question 2"
   ]
  },
  {
   "cell_type": "markdown",
   "id": "7fb0b5a8",
   "metadata": {},
   "source": [
    "Which *one* of the following best explains why a stack is called a stack?\n",
    "\n",
    "Cái nào *một* trong số những cái dưới đây giải thích tốt nhất lý do tại sao ngăn xếp lại được gọi là ngăn xếp?*"
   ]
  },
  {
   "cell_type": "markdown",
   "id": "f1179340",
   "metadata": {},
   "source": [
    "**a)** A stack is like a stack of paperwork. You can only add more paperwork, or throw the entire pile into the trash once the stack gets too high. ( Ngăn xếp giống như một chồng giấy tờ. Bạn chỉ có thể thêm giấy tờ vào, hoặc vứt cả chồng giấy vào thùng rác khi chồng giấy quá cao.)\n",
    "\n",
    "**b)** A stack is like a haystack. It is very easy to add more hay to the stack, but very hard to find the needle in the haystack. (Ngăn xếp giống như một đống cỏ khô. Việc thêm cỏ vào đống rất dễ dàng, nhưng rất khó để tìm cây kim trong đống cỏ.)\n",
    "\n",
    "**c)** A stack is like a stack of pancakes. You can only add one pancake to the top at a time, but you can eat all of the pancakes simultaneously. (Ngăn xếp giống như một chồng bánh pancake. Bạn chỉ có thể thêm một chiếc bánh pancake lên trên cùng một lần, nhưng bạn có thể ăn tất cả các chiếc bánh cùng một lúc.)\n",
    "\n",
    "**d)** A stack is like a stack of plates. You can only add one plate to the top at a time, or remove the plate that you've just added. (Ngăn xếp giống như một chồng đĩa. Bạn chỉ có thể thêm một chiếc đĩa lên trên cùng một lần, hoặc lấy chiếc đĩa mà bạn vừa thêm vào.)"
   ]
  },
  {
   "cell_type": "markdown",
   "id": "ecbbb415",
   "metadata": {},
   "source": [
    "### Question 3"
   ]
  },
  {
   "cell_type": "markdown",
   "id": "218103bf",
   "metadata": {},
   "source": [
    "In which of the following would a stack be an appropriate data structure to use? There may be more than one correct response.\n",
    "\n",
    "Trong những trường hợp nào dưới đây, ngăn xếp sẽ là một cấu trúc dữ liệu thích hợp để sử dụng? Có thể có nhiều đáp án đúng."
   ]
  },
  {
   "cell_type": "markdown",
   "id": "1a2682eb",
   "metadata": {},
   "source": [
    "**a)** The characters typed by a keyboard (along with the backspace key) (Các ký tự được nhập từ bàn phím (cùng với phím backspace))\n",
    "\n",
    "**b)** The people in a queue at a bank (Những người đang xếp hàng tại ngân hàng)\n",
    "\n",
    "**c)** The names of every student in a school (Tên của mọi học sinh trong một trường học)\n",
    "\n",
    "**d)** The jewelry/watches/wristbands you wear on your wrist (Trang sức/đồng hồ/vòng tay bạn đeo trên cổ tay)"
   ]
  },
  {
   "cell_type": "markdown",
   "id": "f60393a1",
   "metadata": {},
   "source": [
    "### Question 4"
   ]
  },
  {
   "cell_type": "markdown",
   "id": "ee814d51",
   "metadata": {},
   "source": [
    "Let's implement some of the stack's important methods. Start by implementing the `push()` method, which adds an item to the top of the stack. You may assume the stack's elements are stored in the `self.item_list` attribute.\n",
    "\n",
    "Hãy triển khai một số phương thức quan trọng của ngăn xếp. Bắt đầu với việc triển khai phương thức `push()`, phương thức này sẽ thêm một phần tử vào đỉnh của ngăn xếp. Bạn có thể giả định rằng các phần tử của ngăn xếp được lưu trữ trong thuộc tính `self.item_list`."
   ]
  },
  {
   "cell_type": "code",
   "execution_count": null,
   "id": "4c9f1142",
   "metadata": {
    "vscode": {
     "languageId": "plaintext"
    }
   },
   "outputs": [],
   "source": [
    "class Stack:\n",
    "  \n",
    "  def __init__(self):\n",
    "    self.item_list = []\n",
    "\n",
    "  def length(self):\n",
    "    return len(self.item_list)\n",
    "    \n",
    "  def push(self, item):\n",
    "    # TODO(you): Implement\n",
    "    print('This function is not implemented.')"
   ]
  },
  {
   "cell_type": "markdown",
   "id": "3e57058f",
   "metadata": {},
   "source": [
    "#### Unit Tests (Kiểm tra thử đơn vị)\n",
    "\n",
    "Run the following cell to check your answer against some unit tests.\n",
    "\n",
    "Chạy ô sau để kiểm tra câu trả lời của bạn với một số kiểm thử đơn vị."
   ]
  },
  {
   "cell_type": "code",
   "execution_count": null,
   "id": "8b1e8353",
   "metadata": {
    "vscode": {
     "languageId": "plaintext"
    }
   },
   "outputs": [],
   "source": [
    "stack = Stack()\n",
    "stack.item_list = [1, 2]\n",
    "stack.push(3)\n",
    "print(stack.item_list)\n",
    "# Should print: [1, 2, 3]"
   ]
  },
  {
   "cell_type": "markdown",
   "id": "c197df92",
   "metadata": {},
   "source": [
    "### Question 5"
   ]
  },
  {
   "cell_type": "markdown",
   "id": "7ca2f0b3",
   "metadata": {},
   "source": [
    "Implement the `pop()` function, which removes an element from the stack and returns it to the user.\n",
    "\n",
    "Triển khai phương thức `pop()`, phương thức này sẽ loại bỏ một phần tử khỏi ngăn xếp và trả lại cho người dùng."
   ]
  },
  {
   "cell_type": "code",
   "execution_count": null,
   "id": "d133d5ec",
   "metadata": {
    "vscode": {
     "languageId": "plaintext"
    }
   },
   "outputs": [],
   "source": [
    "class Stack:\n",
    "  \n",
    "  def __init__(self):\n",
    "    self.item_list = []\n",
    "\n",
    "  def length(self):\n",
    "    return len(self.item_list)\n",
    "\n",
    "  def push(self, item):\n",
    "    self.item_list.append(item)\n",
    "\n",
    "  def pop(self):\n",
    "    # TODO(you): Implement\n",
    "    print('This function is not implemented.')"
   ]
  },
  {
   "cell_type": "markdown",
   "id": "a87ced80",
   "metadata": {},
   "source": [
    "#### Unit Tests (Kiểm tra thử đơn vị)\n",
    "\n",
    "Run the following cell to check your answer against some unit tests.\n",
    "\n",
    "Chạy ô sau để kiểm tra câu trả lời của bạn với một số kiểm thử đơn vị."
   ]
  },
  {
   "cell_type": "code",
   "execution_count": null,
   "id": "2e7092c3",
   "metadata": {
    "vscode": {
     "languageId": "plaintext"
    }
   },
   "outputs": [],
   "source": [
    "stack = Stack()\n",
    "stack.item_list = [1, 2, 3]\n",
    "print(stack.pop())\n",
    "# Should print: 3\n",
    "\n",
    "print(stack.item_list)\n",
    "# Should print: [1, 2]"
   ]
  },
  {
   "cell_type": "markdown",
   "id": "5ff19a89",
   "metadata": {},
   "source": [
    "### Question 6"
   ]
  },
  {
   "cell_type": "markdown",
   "id": "ff0de32b",
   "metadata": {},
   "source": [
    "Which *one* of the following best defines a queue?\n",
    "\n",
    "Cái nào *một* trong số những cái dưới đây định nghĩa chính xác nhất về hàng đợi (queue)?"
   ]
  },
  {
   "cell_type": "markdown",
   "id": "00cb60c6",
   "metadata": {},
   "source": [
    "**a)** A linked list in which each element is a class that represents a person in a line (Một danh sách liên kết trong đó mỗi phần tử là một lớp đại diện cho một người trong hàng)\n",
    "\n",
    "**b)** A data structure in which you can remove any object that has been in the queue for a given amount of time (Một cấu trúc dữ liệu trong đó bạn có thể xóa bất kỳ đối tượng nào đã ở trong hàng đợi một khoảng thời gian nhất định)\n",
    "\n",
    "**c)** A data structure in which you can only remove the object that has been in the queue the longest (Một cấu trúc dữ liệu trong đó bạn chỉ có thể xóa đối tượng đã ở trong hàng đợi lâu nhất)\n",
    "\n",
    "**d)** A data structure in which you can only remove the object that has most recently been added (Một cấu trúc dữ liệu trong đó bạn chỉ có thể xóa đối tượng đã được thêm vào gần đây nhất)"
   ]
  },
  {
   "cell_type": "markdown",
   "id": "df40b980",
   "metadata": {},
   "source": [
    "### Question 7"
   ]
  },
  {
   "cell_type": "markdown",
   "id": "a2919ddf",
   "metadata": {},
   "source": [
    "The following examples are either \"first in, first out\" retrieval (best implemented by a queue) or \"last in, first out\" retrieval (best implemented by a stack). Choose the examples that would be best implemented by a queue.\n",
    "\n",
    "Các ví dụ sau đây là các tình huống \"vào trước, ra trước\" (FIFO – thích hợp với hàng đợi) hoặc \"vào sau, ra trước\" (LIFO – thích hợp với ngăn xếp). Chọn các ví dụ phù hợp nhất để triển khai bằng hàng đợi."
   ]
  },
  {
   "cell_type": "markdown",
   "id": "42d724f2",
   "metadata": {},
   "source": [
    "**a)** The characters typed by a keyboard (along with the backspace key) (Các ký tự được gõ từ bàn phím (cùng với phím backspace))\n",
    "\n",
    "**b)** The people in a line at a bank (Những người xếp hàng tại ngân hàng)\n",
    "\n",
    "**c)** A company (with zero turnover) that, at the end of every year, promotes the two longest-tenured employees at each level to the next level (Một công ty (không có nhân viên nghỉ việc) mà vào cuối mỗi năm, thăng chức cho hai nhân viên làm lâu nhất ở mỗi cấp bậc lên cấp bậc tiếp theo)\n",
    "\n",
    "**d)** A company (with zero voluntary turnover) that uses a \"last hired, first fired\" strategy, whereby if it needs to fire someone, fires the person most recently hired (Một công ty (không có người tự nghỉ việc) sử dụng chiến lược \"thuê sau, sa thải trước\", nghĩa là nếu cần sa thải ai, sẽ sa thải người được thuê gần đây nhất)\n",
    "\n",
    "**e)** Your taxes, which are stored in a massive pile of paperwork on your table (Hồ sơ thuế của bạn, được xếp thành một đống giấy tờ khổng lồ trên bàn)\n",
    "\n",
    "**f)** A medical office that has no appointments and serves patients \"first come, first served\" (Một phòng khám không có lịch hẹn, phục vụ bệnh nhân theo thứ tự \"đến trước, phục vụ trước\")"
   ]
  },
  {
   "cell_type": "markdown",
   "id": "d2262f31",
   "metadata": {},
   "source": [
    "### Question 8"
   ]
  },
  {
   "cell_type": "markdown",
   "id": "6637dce5",
   "metadata": {},
   "source": [
    "To start off, let's focus on the queue implementation details. Begin by writing the `enqueue()` method, based on the class implementation from the start of the lesson.\n",
    "\n",
    "Đầu tiên, hãy tập trung vào chi tiết triển khai hàng đợi. Bắt đầu bằng cách viết phương thức `enqueue()` dựa trên lớp đã được triển khai ở đầu bài học."
   ]
  },
  {
   "cell_type": "markdown",
   "id": "ca80c157",
   "metadata": {},
   "source": [
    "class Queue:\n",
    "\n",
    "  def __init__(self):\n",
    "    self.item_list = []\n",
    "\n",
    "  def length(self):\n",
    "    return len(self.item_list)\n",
    "\n",
    "  def enqueue(self, item):\n",
    "    # TODO(you): Implement\n",
    "    print('This method has not been implemented.')"
   ]
  },
  {
   "cell_type": "markdown",
   "id": "9350ba57",
   "metadata": {},
   "source": [
    "#### Unit Tests (Kiểm thử đơn vị)\n",
    "\n",
    "Run the following cell to check your answer against some unit tests.\n",
    "\n",
    "Chạy ô sau để kiểm tra câu trả lời của bạn với một số kiểm thử đơn vị."
   ]
  },
  {
   "cell_type": "code",
   "execution_count": null,
   "id": "ad08676f",
   "metadata": {
    "vscode": {
     "languageId": "plaintext"
    }
   },
   "outputs": [],
   "source": [
    "example_queue = Queue()\n",
    "\n",
    "example_queue.enqueue(1)\n",
    "print(example_queue.item_list)\n",
    "# Should print: [1]\n",
    "\n",
    "example_queue.enqueue(2)\n",
    "print(example_queue.item_list)\n",
    "# Should print: [1, 2]"
   ]
  },
  {
   "cell_type": "markdown",
   "id": "0b8a3aff",
   "metadata": {},
   "source": [
    "### Question 9"
   ]
  },
  {
   "cell_type": "markdown",
   "id": "6c422582",
   "metadata": {},
   "source": [
    "Write the `dequeue()` method, based on the class implementation from the start of the lesson.\n",
    "\n",
    "Viết phương thức `dequeue()`, dựa trên phần triển khai lớp từ đầu bài học."
   ]
  },
  {
   "cell_type": "code",
   "execution_count": null,
   "id": "b66c06c9",
   "metadata": {
    "vscode": {
     "languageId": "plaintext"
    }
   },
   "outputs": [],
   "source": [
    "class Queue:\n",
    "\n",
    "  def __init__(self):\n",
    "    self.item_list = []\n",
    "\n",
    "  def length(self):\n",
    "    return len(self.item_list)\n",
    "\n",
    "  def enqueue(self, item):\n",
    "    self.item_list.append(item)\n",
    "\n",
    "  def dequeue(self):\n",
    "    # TODO(you): Implement\n",
    "    print('This method has not been implemented.')"
   ]
  },
  {
   "cell_type": "markdown",
   "id": "7889728e",
   "metadata": {},
   "source": [
    "#### Unit Tests (Kiểm thử đơn vị)\n",
    "\n",
    "Run the following cell to check your answer against some unit tests.\n",
    "\n",
    "Chạy ô sau để kiểm tra câu trả lời của bạn với một số kiểm thử đơn vị."
   ]
  },
  {
   "cell_type": "code",
   "execution_count": null,
   "id": "69ef7295",
   "metadata": {
    "vscode": {
     "languageId": "plaintext"
    }
   },
   "outputs": [],
   "source": [
    "example_queue = Queue()\n",
    "example_queue.enqueue(1)\n",
    "print(example_queue.dequeue())\n",
    "# Should print: 1\n",
    "\n",
    "example_queue.enqueue(2)\n",
    "example_queue.enqueue(3)\n",
    "print(example_queue.dequeue())\n",
    "# Should print: 2\n",
    "\n",
    "print(example_queue.dequeue())\n",
    "# Should print: 3"
   ]
  }
 ],
 "metadata": {
  "language_info": {
   "name": "python"
  }
 },
 "nbformat": 4,
 "nbformat_minor": 5
}
