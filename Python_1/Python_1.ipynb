{
 "cells": [
  {
   "cell_type": "markdown",
   "metadata": {},
   "source": [
    "# Introduction to Python (giới thiệu lập trình Python)\n",
    "\n",
    "Authors: Khanh Vu (UCI), Duc Hoang (MIT). Adapted from: Mathieu Blondel. \n",
    "\n",
    "# Welcome\n",
    "\n",
    "Welcome to the first practical work of the week! In this practical, we will learn about the programming language Python as well as NumPy and Matplotlib, two fundamental tools for data science and machine learning in Python.\n",
    "\n",
    "Chào mừng đến với bài thực hành đầu tiên của tuần! Trong bài thực hành này, chúng ta sẽ tìm hiểu về ngôn ngữ lập trình Python cũng như NumPy và Matplotlib, hai công cụ cơ bản cho khoa học dữ liệu và học máy.\n",
    "\n",
    "This week, we will use Jupyter notebooks and Google colab as the primary way to practice machine learning. Notebooks are a great way to mix executable code with rich contents (HTML, images, equations written in LaTeX). Colab allows to run notebooks on the cloud for free without any prior installation, while leveraging the power of [GPUs](https://en.wikipedia.org/wiki/Graphics_processing_unit).\n",
    "\n",
    "Tuần này, chúng ta sẽ sử dụng Jupyter Notebooks và Google Colab làm phương thức chính để thực hành học máy. Notebooks là một cách tuyệt vời để kết hợp code có thể thực thi với nội dung phong phú (HTML, hình ảnh, các phương trình viết bằng LaTeX). Colab cho phép chạy notebooks trên đám mây miễn phí mà không cần cài đặt trước, trong khi vẫn tận dụng sức mạnh của GPUs.\n",
    "\n",
    "The document that you are reading is not a static web page, but an interactive environment called a notebook, that lets you write and execute code. Notebooks consist of so-called code cells, blocks of one or more Python instructions. For example, here is a code cell that stores the result of a computation (the number of seconds in a day) in a variable and prints its value:\n",
    "\n",
    "Tài liệu bạn đang đọc không phải là một trang web tĩnh, mà là một môi trường tương tác được gọi là notebook, cho phép bạn viết và thực thi mã lệnh. Các notebook bao gồm các ô mã (code cells), là các khối chứa một hoặc nhiều lệnh Python. Ví dụ, dưới đây là một ô mã lưu kết quả của một phép tính (số giây trong một ngày) vào một biến và in ra giá trị của nó:"
   ]
  },
  {
   "cell_type": "code",
   "execution_count": 2,
   "metadata": {},
   "outputs": [
    {
     "data": {
      "text/plain": [
       "86400"
      ]
     },
     "execution_count": 2,
     "metadata": {},
     "output_type": "execute_result"
    }
   ],
   "source": [
    "seconds_in_a_day = 24 * 60 * 60\n",
    "seconds_in_a_day"
   ]
  },
  {
   "cell_type": "markdown",
   "metadata": {},
   "source": [
    "Click on the \"play\" button to execute the cell. You should be able to see the result. Alternatively, you can also execute the cell by pressing Ctrl + Enter if you are on Windows / Linux or Command + Enter if you are on a Mac.\n",
    "\n",
    "Nhấn vào nút \"play\" để chạy ô mã. Bạn sẽ thấy kết quả hiển thị. Ngoài ra, bạn cũng có thể chạy ô mã bằng cách nhấn Ctrl + Enter nếu bạn đang sử dụng Windows / Linux hoặc Command + Enter nếu bạn đang sử dụng Mac."
   ]
  },
  {
   "cell_type": "markdown",
   "metadata": {},
   "source": [
    "Variables that you defined in one cell can later be used in other cells:\n",
    "\n",
    "Các biến mà bạn đã định nghĩa trong một ô có thể được sử dụng sau đó trong các ô khác:"
   ]
  },
  {
   "cell_type": "code",
   "execution_count": 3,
   "metadata": {},
   "outputs": [
    {
     "data": {
      "text/plain": [
       "604800"
      ]
     },
     "execution_count": 3,
     "metadata": {},
     "output_type": "execute_result"
    }
   ],
   "source": [
    "seconds_in_a_week = 7 * seconds_in_a_day\n",
    "seconds_in_a_week"
   ]
  },
  {
   "cell_type": "markdown",
   "metadata": {},
   "source": [
    "Note that the order of execution is important. For instance, if we do not run the cell storing seconds_in_a_day beforehand, the above cell will raise an error, as it depends on this variable. To make sure that you run all the cells in the correct order, you can also click on \"Runtime\" in the top-level menu, then \"Run all\".\n",
    "\n",
    "Lưu ý rằng thứ tự thực thi là quan trọng. Ví dụ, nếu chúng ta không chạy ô mã lưu giá trị seconds_in_a_day trước, thì ô mã phía trên sẽ phát sinh lỗi vì nó phụ thuộc vào biến này. Để đảm bảo rằng bạn chạy tất cả các ô mã theo đúng thứ tự, bạn cũng có thể nhấp vào \"Runtime\" trong menu ở trên, sau đó chọn \"Run all\"."
   ]
  },
  {
   "cell_type": "markdown",
   "metadata": {},
   "source": [
    "**Exercise.** Add a cell below this cell: click on this cell then click on \"+ Code\". In the new cell, compute the number of seconds in a year by reusing the variable *seconds_in_a_day*. Run the new cell.\n",
    "\n",
    "Bài tập. Thêm một ô mã bên dưới ô này: nhấp vào ô này sau đó nhấp vào “+ Code”. Trong ô mới, hãy tính số giây trong một năm bằng cách tái sử dụng biến seconds_in_a_day. Chạy ô mới."
   ]
  },
  {
   "cell_type": "markdown",
   "metadata": {},
   "source": []
  }
 ],
 "metadata": {
  "kernelspec": {
   "display_name": "Python 3",
   "language": "python",
   "name": "python3"
  },
  "language_info": {
   "codemirror_mode": {
    "name": "ipython",
    "version": 3
   },
   "file_extension": ".py",
   "mimetype": "text/x-python",
   "name": "python",
   "nbconvert_exporter": "python",
   "pygments_lexer": "ipython3",
   "version": "3.9.6"
  }
 },
 "nbformat": 4,
 "nbformat_minor": 2
}
