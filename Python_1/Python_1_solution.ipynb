{
 "cells": [
  {
   "cell_type": "markdown",
   "metadata": {},
   "source": [
    "## Exercises / Bài tập"
   ]
  },
  {
   "cell_type": "markdown",
   "metadata": {},
   "source": [
    "**Exercise.** Add a cell below this cell: click on this cell then click on \"+ Code\". In the new cell, compute the number of seconds in a year by reusing the variable *seconds_in_a_day*. Run the new cell.\n",
    "\n",
    "Bài tập. Thêm một cell bên dưới ô này: nhấp vào ô này sau đó nhấp vào “+ Code”. Trong ô mới, hãy tính số giây trong một năm bằng cách tái sử dụng biến seconds_in_a_day. Chạy ô mới."
   ]
  },
  {
   "cell_type": "code",
   "execution_count": null,
   "metadata": {},
   "outputs": [],
   "source": [
    "seconds_in_a_day = 86400\n",
    "\n",
    "seconds_in_a_year = seconds_in_a_day * 365\n",
    "\n",
    "print(seconds_in_a_year)"
   ]
  },
  {
   "cell_type": "markdown",
   "metadata": {},
   "source": [
    "**Exercise 1.** Using a conditional, write the [relu](https://en.wikipedia.org/wiki/Rectifier_(neural_networks)) function defined as follows\n",
    "\n",
    "Bài tập 1. Sử dụng câu lệnh điều kiện, hãy viết hàm ReLU được định nghĩa như sau:\n",
    "​\n",
    "\n",
    "$\\text{relu}(x) = \\left\\{\n",
    "   \\begin{array}{rl}\n",
    "     x, & \\text{if }  x \\ge 0 \\\\\n",
    "     0, & \\text{otherwise }.\n",
    "   \\end{array}\\right.$"
   ]
  },
  {
   "cell_type": "code",
   "execution_count": null,
   "metadata": {},
   "outputs": [],
   "source": [
    "def relu(x):\n",
    "    if x >= 0:\n",
    "        return x\n",
    "    else:\n",
    "        return 0\n",
    "\n",
    "relu(-3)"
   ]
  },
  {
   "cell_type": "markdown",
   "metadata": {},
   "source": [
    "**Exercise 2.** Using a foor loop, write a function that computes the [Euclidean norm](https://en.wikipedia.org/wiki/Norm_(mathematics)#Euclidean_norm) of a vector, represented as a list.\n",
    "\n",
    "Bài tập 2. Sử dụng vòng lặp for, hãy viết một hàm tính chuẩn Euclid (Euclidean norm) của một vectơ được biểu diễn dưới dạng danh sách."
   ]
  },
  {
   "cell_type": "code",
   "execution_count": null,
   "metadata": {},
   "outputs": [],
   "source": [
    "def euclidean_norm(vector):\n",
    "    sum_of_squares = 0\n",
    "    for x in vector:\n",
    "        sum_of_squares += x * x\n",
    "    return sum_of_squares ** 0.5\n",
    "\n",
    "import numpy as np\n",
    "my_vector = [0.5, -1.2, 3.3, 4.5]\n",
    "euclidean_norm(my_vector)"
   ]
  },
  {
   "cell_type": "markdown",
   "metadata": {},
   "source": [
    "**Exercise 3.** Using a for loop and a conditional, write a function that returns the maximum value in a vector.\n",
    "\n",
    "Bài tập 3. Sử dụng vòng lặp for và câu lệnh điều kiện, hãy viết một hàm trả về giá trị lớn nhất trong một vectơ (danh sách)."
   ]
  },
  {
   "cell_type": "code",
   "execution_count": null,
   "metadata": {},
   "outputs": [],
   "source": [
    "def vector_maximum(vector):\n",
    "    max_value = vector[0]\n",
    "    for x in vector:\n",
    "        if x > max_value:\n",
    "            max_value = x\n",
    "    return max_value"
   ]
  },
  {
   "cell_type": "markdown",
   "metadata": {},
   "source": [
    "**Bonus exercise.** if time permits, write a function that sorts a list in ascending order (from smaller to bigger) using the [bubble sort](https://en.wikipedia.org/wiki/Bubble_sort) algorithm.\n",
    "\n",
    "Bài tập bổ sung. Nếu có thời gian, hãy viết một hàm sắp xếp danh sách theo thứ tự tăng dần (từ nhỏ đến lớn) bằng thuật toán Bubble Sort."
   ]
  },
  {
   "cell_type": "code",
   "execution_count": null,
   "metadata": {},
   "outputs": [],
   "source": [
    "def bubble_sort(my_list):\n",
    "    n = len(my_list)\n",
    "    for i in range(n):\n",
    "        for j in range(0, n - i - 1):\n",
    "            if my_list[j] > my_list[j + 1]:\n",
    "                my_list[j], my_list[j + 1] = my_list[j + 1], my_list[j]\n",
    "    return my_list\n",
    "\n",
    "my_list = [1, -3, 3, 2]\n",
    "bubble_sort(my_list)"
   ]
  }
 ],
 "metadata": {
  "kernelspec": {
   "display_name": "Python 3",
   "language": "python",
   "name": "python3"
  },
  "language_info": {
   "codemirror_mode": {
    "name": "ipython",
    "version": 3
   },
   "file_extension": ".py",
   "mimetype": "text/x-python",
   "name": "python",
   "nbconvert_exporter": "python",
   "pygments_lexer": "ipython3",
   "version": "3.11.2"
  }
 },
 "nbformat": 4,
 "nbformat_minor": 2
}
