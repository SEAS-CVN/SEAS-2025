{
  "nbformat": 4,
  "nbformat_minor": 0,
  "metadata": {
    "colab": {
      "provenance": [],
      "authorship_tag": "ABX9TyMHl4jJ0kwJD2Y3VcHZNIlN",
      "include_colab_link": true
    },
    "kernelspec": {
      "name": "python3",
      "display_name": "Python 3"
    },
    "language_info": {
      "name": "python"
    }
  },
  "cells": [
    {
      "cell_type": "markdown",
      "metadata": {
        "id": "view-in-github",
        "colab_type": "text"
      },
      "source": [
        "<a href=\"https://colab.research.google.com/github/SEAS-CVN/SEAS-2025/blob/main/projects/FishID.ipynb\" target=\"_parent\"><img src=\"https://colab.research.google.com/assets/colab-badge.svg\" alt=\"Open In Colab\"/></a>"
      ]
    },
    {
      "cell_type": "code",
      "execution_count": null,
      "metadata": {
        "colab": {
          "base_uri": "https://localhost:8080/"
        },
        "id": "CLOVEePgI4-o",
        "outputId": "ecce6f0f-7939-4659-a23a-07145f8ec129"
      },
      "outputs": [
        {
          "output_type": "stream",
          "name": "stdout",
          "text": [
            "Drive already mounted at /content/drive; to attempt to forcibly remount, call drive.mount(\"/content/drive\", force_remount=True).\n"
          ]
        }
      ],
      "source": [
        "from google.colab import drive\n",
        "drive.mount('/content/drive')"
      ]
    },
    {
      "cell_type": "code",
      "source": [
        "import os\n",
        "import zipfile\n",
        "\n",
        "# --- Configuration ---\n",
        "# Adjust this path to where you added the shortcut in your 'My Drive'\n",
        "# Example: If you added the shortcut directly into 'My Drive'\n",
        "zip_file_path_in_drive = '/content/drive/MyDrive/fishnet.zip'\n",
        "# Example: If you added it inside a folder called 'SharedStuff' in 'My Drive'\n",
        "# zip_file_path_in_drive = '/content/drive/MyDrive/SharedStuff/your_shared_file.zip'\n",
        "\n",
        "# Choose a directory within Colab's temporary storage to extract the files\n",
        "extract_to_directory = '/content/extracted_data'\n",
        "# --- End Configuration ---\n",
        "\n",
        "# Check if the zip file exists at the specified path\n",
        "if not os.path.exists(zip_file_path_in_drive):\n",
        "  print(f\"Error: Zip file not found at '{zip_file_path_in_drive}'\")\n",
        "  print(\"Please double-check the path and ensure you've added the shortcut to your Drive.\")\n",
        "else:\n",
        "  print(f\"Zip file found at: {zip_file_path_in_drive}\")\n",
        "\n",
        "  # Create the extraction directory if it doesn't exist\n",
        "  os.makedirs(extract_to_directory, exist_ok=True)\n",
        "  print(f\"Extracting files to: {extract_to_directory}\")\n",
        "\n",
        "  # Unzip the file\n",
        "  try:\n",
        "    with zipfile.ZipFile(zip_file_path_in_drive, 'r') as zip_ref:\n",
        "      zip_ref.extractall(extract_to_directory)\n",
        "    print(\"Extraction complete.\")\n",
        "\n",
        "    # List the extracted files (optional)\n",
        "    print(\"\\nExtracted files:\")\n",
        "    for item in os.listdir(extract_to_directory):\n",
        "        print(f\"- {item}\")\n",
        "\n",
        "  except zipfile.BadZipFile:\n",
        "    print(f\"Error: The file at '{zip_file_path_in_drive}' is not a valid zip file or is corrupted.\")\n",
        "  except Exception as e:\n",
        "    print(f\"An error occurred during extraction: {e}\")\n",
        "\n",
        "# You can now work with the files in '/content/extracted_data'"
      ],
      "metadata": {
        "colab": {
          "base_uri": "https://localhost:8080/"
        },
        "id": "qWH6QHjUJmNP",
        "outputId": "70fd0666-5c46-4edd-d171-4a3f084140f1"
      },
      "execution_count": null,
      "outputs": [
        {
          "output_type": "stream",
          "name": "stdout",
          "text": [
            "Zip file found at: /content/drive/MyDrive/fishnet.zip\n",
            "Extracting files to: /content/extracted_data\n",
            "Extraction complete.\n",
            "\n",
            "Extracted files:\n",
            "- Image_Library\n"
          ]
        }
      ]
    },
    {
      "cell_type": "code",
      "source": [],
      "metadata": {
        "id": "DTYL9W07LxWR"
      },
      "execution_count": null,
      "outputs": []
    }
  ]
}