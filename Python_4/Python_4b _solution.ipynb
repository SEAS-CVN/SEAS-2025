{
  "cells": [
    {
      "cell_type": "markdown",
      "metadata": {
        "id": "k01ReoVnLANR"
      },
      "source": [
        "# Big-O"
      ]
    },
    {
      "cell_type": "markdown",
      "metadata": {
        "id": "uEgaSjlwwCW7"
      },
      "source": [
        "## Question 1"
      ]
    },
    {
      "cell_type": "markdown",
      "metadata": {
        "id": "RlaKpbq6Hucy"
      },
      "source": [
        "### Solution"
      ]
    },
    {
      "cell_type": "markdown",
      "metadata": {
        "id": "-W6h1Ld6HwDu"
      },
      "source": [
        "The correct answers are **a)** and **d)**. \n",
        "\n",
        "**b)** While time complexity describes runtime, external factors like different computers also affect runtime.\n",
        "\n",
        "**c)** This is true only if the code within each iteration is $O(1)$. For example, if the code within each iteration is $O(n)$, then the `for` loop has a total time complexity of $O(n^2)$.\n",
        "\n",
        "**e)** There are many algorithms for sorting an array of integers, with very different time complexities."
      ]
    },
    {
      "cell_type": "markdown",
      "metadata": {
        "id": "aE1w6zfbz7rp"
      },
      "source": [
        "## Question 2"
      ]
    },
    {
      "cell_type": "markdown",
      "metadata": {
        "id": "kEfIy5iiIdQM"
      },
      "source": [
        "### Solution"
      ]
    },
    {
      "cell_type": "markdown",
      "metadata": {
        "id": "puVNtshEIgAP"
      },
      "source": [
        "The correct answers are **b)** and **e)**. \n",
        "\n",
        "**a)** Space complexity does not describe the size of the program itself, but the amount of space it requires to run.\n",
        "\n",
        "**c)**  While it is often the case that time and space complexity go in opposite directions, it is not always true.\n",
        "\n",
        "**d)** Assigning a variable to something whose size can change is not necessarily $O(1)$. For example, consider a function `f(n)` that creates an array of size `n`, e.g. `arr = [i for i in range(n)]`; this variable assignment is $O(n)$.\n"
      ]
    },
    {
      "cell_type": "markdown",
      "metadata": {
        "id": "L0tZFiqxMJCR"
      },
      "source": [
        "## Question 3"
      ]
    },
    {
      "cell_type": "markdown",
      "metadata": {
        "id": "qMo1jMcjJRks"
      },
      "source": [
        "### Solution"
      ]
    },
    {
      "cell_type": "markdown",
      "metadata": {
        "id": "ivZfnwV3JTBe"
      },
      "source": [
        "The correct answers are **a)**, **b)**, and **c)**. \n",
        "\n",
        "**d)** $O(1)$ means constant, it does mean zero. A space complexity of $O(1)$ means that the amount of space required does not depend on any inputs; this does not mean that the required space is zero.\n",
        "\n",
        "**e)** The fastest growing additive term in this expression is $3^n$, so the expression is $O(3^n)$."
      ]
    },
    {
      "cell_type": "markdown",
      "metadata": {
        "id": "ebPLfF9Tljkv"
      },
      "source": [
        "## Question 4"
      ]
    },
    {
      "cell_type": "markdown",
      "metadata": {
        "id": "rA_7tReQmG_S"
      },
      "source": [
        "### Solution"
      ]
    },
    {
      "cell_type": "markdown",
      "metadata": {
        "id": "ha2y6mvRmICG"
      },
      "source": [
        "The following are ranked from slowest growing to fastest growing."
      ]
    },
    {
      "cell_type": "markdown",
      "metadata": {
        "id": "MG9vEjPkOfc_"
      },
      "source": [
        "1. $O(1)$\n",
        "1. $O(\\log(n))$\n",
        "1. $O(\\sqrt{n})$\n",
        "1. $O(n)$\n",
        "1. $O(n\\log(n))$\n",
        "1. $O(n^2)$\n",
        "1. $O(2^n)$\n",
        "1. $O(n!)$"
      ]
    },
    {
      "cell_type": "markdown",
      "metadata": {
        "id": "nilqKu4dZMLF"
      },
      "source": [
        "## Question 5"
      ]
    },
    {
      "cell_type": "markdown",
      "metadata": {
        "id": "QQcPaXp5ZWh4"
      },
      "source": [
        "### Solution"
      ]
    },
    {
      "cell_type": "markdown",
      "metadata": {
        "id": "ERu8OA5UIY2x"
      },
      "source": [
        "All of the single operations in this function are $O(1)$ for time. The `for` loop has $n$ iterations (where $n$ is the length of `arr`), so the operations within the `for` loop are repated $n$ times."
      ]
    },
    {
      "cell_type": "code",
      "execution_count": null,
      "metadata": {
        "id": "OfSeikwm4Inz"
      },
      "outputs": [],
      "source": [
        "def minimum(arr):\n",
        "  \"\"\"Finds the minimum of a list of integers.\"\"\"\n",
        "  min_value = float(\"Inf\") # time: O(1), space: O(1)\n",
        "\n",
        "  for i in arr: # n iterations, space: O(1)\n",
        "    if i < min_value: # time: O(1), space: 0\n",
        "      min_value = i # time: O(1), space: 0\n",
        "  \n",
        "  return min_value # time: O(1)"
      ]
    },
    {
      "cell_type": "markdown",
      "metadata": {
        "id": "Ka3H8isCUb1D"
      },
      "source": [
        "Using the line-by-line operations above and the properties from the Lesson Overview, the total time complexity is\n",
        "\n",
        "\\begin{align*}\n",
        "O(1) + n(O(1) + O(1)) + O(1) &= O(1) + O(n) + O(1) \\\\\n",
        "&= O(n). \\\\\n",
        "\\end{align*}"
      ]
    },
    {
      "cell_type": "markdown",
      "metadata": {
        "id": "9AtXlRzcZOA3"
      },
      "source": [
        "## Question 6"
      ]
    },
    {
      "cell_type": "markdown",
      "metadata": {
        "id": "i1js8BZ3ZXDo"
      },
      "source": [
        "### Solution"
      ]
    },
    {
      "cell_type": "markdown",
      "metadata": {
        "id": "4gj5hl30SUay"
      },
      "source": [
        "If the array is pre-sorted, then all the function needs to do is return the first element of the array, or the last if it is sorted in descending order. This is a single operation that does not depend on the length of the array, so the function is $O(1)$ for both time and space."
      ]
    },
    {
      "cell_type": "markdown",
      "metadata": {
        "id": "ZXqe1UyOZ8gG"
      },
      "source": [
        "## Question 7"
      ]
    },
    {
      "cell_type": "markdown",
      "metadata": {
        "id": "mvK3V6ATaSC7"
      },
      "source": [
        "### Solution"
      ]
    },
    {
      "cell_type": "markdown",
      "metadata": {
        "id": "pv8MUfB9HKQO"
      },
      "source": [
        "Using the table in the Lesson Overview, $n\\log(n)$ grows faster than $n^2$ which grows faster than $n!$. (And $n \\cdot n! \\geq n!$, this means $n^2$ grows faster than $n \\cdot n!$.) Therefore, merge sort is more efficient than selection sort which is more efficient than bogosort.\n",
        "\n",
        "Without using the table, we can also demonstrate these comparisons. Let's start by comparing bogosort to selection sort.\n",
        "\n",
        "\\begin{align*}\n",
        "n \\cdot n! &= n \\cdot n \\times (n-1) \\times (n-2) \\times ... \\times 1 \\\\\n",
        "&= n^2 \\cdot (n-1)! \\\\\n",
        "&> n^2 \\\\\n",
        "\\end{align*}\n",
        "\n",
        "since for large $n$, $(n-1)!$ is larger than 1. Therefore, $n \\cdot n! > n^2$ for large $n$ so bogosort is higher complexity than selection sort.\n",
        "\n",
        "Now, let's compare selection sort and merge sort. $\\log(n) < n$ for any $n$. Therefore, $n^2 > n\\log(n)$, and selection sort is higher complexity than merge sort."
      ]
    },
    {
      "cell_type": "markdown",
      "metadata": {
        "id": "bR_OafSochGR"
      },
      "source": [
        "## Question 8"
      ]
    },
    {
      "cell_type": "markdown",
      "metadata": {
        "id": "8Vw_C34hLRIJ"
      },
      "source": [
        "### Solution"
      ]
    },
    {
      "cell_type": "markdown",
      "metadata": {
        "id": "E6CSagpRp0Vl"
      },
      "source": [
        "The time complexity of this function is the number of iterations it has to execute. The outer loop contains $n$ iterations, and each of these contains $m$ iterations. Therefore, the big-O time complexity is $O(nm)$.\n",
        "\n",
        "The space complexity is just $O(1)$, since the variable storage does not depend on $n$ or $m$. The only variables that require storage are the temporary variables $i$ and $j$."
      ]
    },
    {
      "cell_type": "markdown",
      "metadata": {
        "id": "4bWSdlACaAGD"
      },
      "source": [
        "## Question 9"
      ]
    },
    {
      "cell_type": "markdown",
      "metadata": {
        "id": "vSPWUKPJaT0U"
      },
      "source": [
        "### Solution"
      ]
    },
    {
      "cell_type": "markdown",
      "metadata": {
        "id": "tOA_U04DKHbK"
      },
      "source": [
        "Even though `fibonacci_recursive` has a big-O time complexity of $O(2^n)$, `print_first_32_fibonacci_numbers` is actually $O(1)$. The reason is that `print_first_32_fibonacci_numbers` does not have any inputs, so every time you run it, the runtime does not change. Even if the amount of time required for each calculation is high, as long as the *number* of calculations is constant, the function is $O(1)$.\n",
        "\n",
        "In general, an algorithm being $O(1)$ does not necessarily mean that it executes quickly. It means that the execution time does not vary as the input changes. Since `print_first_32_fibonacci_numbers` does not have any inputs, it is automatically $O(1)$."
      ]
    },
    {
      "cell_type": "markdown",
      "metadata": {},
      "source": [
        "# Calculating Complexity"
      ]
    },
    {
      "cell_type": "markdown",
      "metadata": {
        "id": "rvWYXONs-nCA"
      },
      "source": [
        "## Question 1"
      ]
    },
    {
      "cell_type": "markdown",
      "metadata": {
        "id": "IwzyruEhM5vN"
      },
      "source": [
        "### Solution"
      ]
    },
    {
      "cell_type": "markdown",
      "metadata": {
        "id": "4i_bYn3GM7Se"
      },
      "source": [
        "The correct solutions are **b)** and **c)**. \n",
        "\n",
        "**a)** If an algorithm has the same time complexity in all cases, then its best and worst case time complexities are the same.\n",
        "\n",
        "**d)** While it is often the case that space complexity increases when time complexity decreases, not all algorithms have this property."
      ]
    },
    {
      "cell_type": "markdown",
      "metadata": {
        "id": "aOiRqlktBScx"
      },
      "source": [
        "## Question 2"
      ]
    },
    {
      "cell_type": "markdown",
      "metadata": {
        "id": "skqfg_Q_NO7k"
      },
      "source": [
        "### Solution"
      ]
    },
    {
      "cell_type": "markdown",
      "metadata": {
        "id": "Q1mb9KeHNQhY"
      },
      "source": [
        "The correct answers is **b)**. "
      ]
    },
    {
      "cell_type": "markdown",
      "metadata": {
        "id": "F_56gXpRZKBJ"
      },
      "source": [
        "## Question 3"
      ]
    },
    {
      "cell_type": "markdown",
      "metadata": {
        "id": "8_6NzLc28jmN"
      },
      "source": [
        "### Solution"
      ]
    },
    {
      "cell_type": "markdown",
      "metadata": {
        "id": "4m9YRAxT8qyG"
      },
      "source": [
        "Suppose $n$ is the length of the input list `arr`. Let's look at the big-O complexity of the function line by line."
      ]
    },
    {
      "cell_type": "code",
      "execution_count": null,
      "metadata": {
        "id": "_PzL8uWbCww2"
      },
      "outputs": [],
      "source": [
        "def mean(arr):\n",
        "  \"\"\"Finds the mean of a list of integers.\"\"\"\n",
        "  sum = 0 # time: O(1), space: O(1)\n",
        "  len = 0 # time: O(1), space: O(1)\n",
        "  for i in arr: # executes n times, space: O(1)\n",
        "    sum += i # time: O(1), space: 0\n",
        "    len += 1 # time: O(1), space: 0\n",
        "  \n",
        "  # Coerce sum to float here so that the division will be float, not int.\n",
        "  return float(sum) / len # time: O(1), space: 0"
      ]
    },
    {
      "cell_type": "markdown",
      "metadata": {
        "id": "VT7IoCqjDEIa"
      },
      "source": [
        "Therefore, the time complexity is\n",
        "\n",
        "$$O(1) + O(1) + n(O(1) + O(1)) + O(1) = O(n),$$\n",
        "\n",
        "and the space complexity is\n",
        "\n",
        "$$O(1) + O(1) + O(1) = O(1).$$"
      ]
    },
    {
      "cell_type": "markdown",
      "metadata": {
        "id": "utxDaSNBdVjJ"
      },
      "source": [
        "## Question 4"
      ]
    },
    {
      "cell_type": "markdown",
      "metadata": {
        "id": "shxgSpeEdbnb"
      },
      "source": [
        "### Solution"
      ]
    },
    {
      "cell_type": "markdown",
      "metadata": {
        "id": "7ZHORIWyr5C1"
      },
      "source": [
        "Suppose the array has $n$ elements before the new element is inserted at the end. \n",
        "\n",
        "If the array has been over allocated, then there is space at the $(n+1)$th position in memory for the new element to be appended. In this case, the operation is $O(1)$. \n",
        "\n",
        "If, however, the array has not been over allocated, then there is not necessarily space at the $(n+1)$th space in memory. (Remember, arrays utilize [contiguous blocks](https://stackoverflow.com/questions/4059363/what-is-a-contiguous-memory-block) of memory.) In this case, we must first allocate a new array of size at least $n+1$, then we need to copy over the $n$ elements of the original array. Finally, we can insert the new element at the $(n+1)$th position. Thus, the time complexity is $O(n)$."
      ]
    },
    {
      "cell_type": "markdown",
      "metadata": {
        "id": "dE6Oq4PvXZcS"
      },
      "source": [
        "## Question 5"
      ]
    },
    {
      "cell_type": "markdown",
      "metadata": {
        "id": "-psOcv7XXhS9"
      },
      "source": [
        "### Solution"
      ]
    },
    {
      "cell_type": "markdown",
      "metadata": {
        "id": "WV370FhFXdix"
      },
      "source": [
        "Linked lists are designed with the purpose that inserting and deleting elements is efficient. Inserting an element is equivalent to creating the new node that points to the following element, and changing the previous element to point to the new element. All of these operations are $O(1)$ and do not depend on the number of nodes in the linked list, therefore the best, worst, and average case time complexities are all the same, $O(1)$."
      ]
    },
    {
      "cell_type": "markdown",
      "metadata": {
        "id": "IDo8sT3GPHhE"
      },
      "source": [
        "## Question 6"
      ]
    },
    {
      "cell_type": "markdown",
      "metadata": {
        "id": "iwrN4wADPI4F"
      },
      "source": [
        "### Solution"
      ]
    },
    {
      "cell_type": "markdown",
      "metadata": {
        "id": "wlAKjMAgbRkr"
      },
      "source": [
        "The `two_minimums` function calls `minimum` twice, once for `arr1` and once for `arr2`. The time complexity of each call is $O(n)$. Therefore the time complexity of of `two_minimums` is\n",
        "\n",
        "$$O(n) + O(n) = O(n),$$\n",
        "\n",
        "using the property that the sum of functions grows as fast as its fastest growing part.\n",
        "\n",
        "This is a good example of how two functions with the same time complexity do not necessarily have the same actual runtime. The `two_minimums` function calls `minimum` twice, so takes exactly twice as long as the `minimum` function, however both are $O(n)$."
      ]
    },
    {
      "cell_type": "markdown",
      "metadata": {
        "id": "gJgeGC0WcQjl"
      },
      "source": [
        "## Question 7"
      ]
    },
    {
      "cell_type": "markdown",
      "metadata": {
        "id": "StaVmqTicvRX"
      },
      "source": [
        "### Solution"
      ]
    },
    {
      "cell_type": "markdown",
      "metadata": {
        "id": "wP0jwJ21cx_G"
      },
      "source": [
        "Using the same logic as in the previous question, the time complexity of finding the minimum of each array is $O(n)$. When these are added together, the time complexity is\n",
        "\n",
        "$$O(1000n) = O(n).$$\n",
        "\n",
        "This demonstrates how for any *constant* number $N$ of $n$-arrays, the total time complexity of calculating the $N$ respective minimums of the $N$ arrays is always $O(n)$. In an algorithm, doing the same thing repeatedly for a *known* and *constant* number of times is as time-complex as doing it only once."
      ]
    },
    {
      "cell_type": "markdown",
      "metadata": {
        "id": "XSlI_JUwdOla"
      },
      "source": [
        "## Question 8"
      ]
    },
    {
      "cell_type": "markdown",
      "metadata": {
        "id": "SnN7Ohjde9lY"
      },
      "source": [
        "### Solution"
      ]
    },
    {
      "cell_type": "markdown",
      "metadata": {
        "id": "Nrl8rhEWe-uI"
      },
      "source": [
        "Since each array within `arr` has length $n$, the computation `minimum(each)` is $O(n)$. There are $m$ arrays in `arr`, so the `for` loop executes $m$ times. Therefore, as `m_minimums` has $m$ iterations of an $O(n)$ loop, the total time complexity is $O(mn)$.\n",
        "\n",
        "Note how this is different from the function in the previous question that calculates the minimums of 1000 arrays, which has a time complexity of $O(n)$. When the number of arrays is *known* and *constant*, the time complexity is $O(n)$. Once the number of arrays is itself a variable $m$ that can be parameterized in the time complexity, the complexity becomes $O(mn)$."
      ]
    },
    {
      "cell_type": "markdown",
      "metadata": {},
      "source": [
        "# Analyzing Complexity"
      ]
    },
    {
      "cell_type": "markdown",
      "metadata": {
        "id": "Rq3PzjXIF0wh"
      },
      "source": [
        "## Question 1"
      ]
    },
    {
      "cell_type": "markdown",
      "metadata": {
        "id": "OXTWjdbDP5og"
      },
      "source": [
        "### Solution"
      ]
    },
    {
      "cell_type": "markdown",
      "metadata": {
        "id": "bQDVtuzhP7CP"
      },
      "source": [
        "The correct answer is **d)**.\n",
        "\n",
        "**a)** Average case complexity averages more than just the best and worst case complexity.\n",
        "\n",
        "**b)** The average case complexity is the average complexity, not the complexity on average inputs.\n",
        "\n",
        "**c)** Close, but not quite. \"Average\" generally refers to the mean, not the median."
      ]
    },
    {
      "cell_type": "markdown",
      "metadata": {
        "id": "drEesRbhaqhT"
      },
      "source": [
        "## Question 2"
      ]
    },
    {
      "cell_type": "markdown",
      "metadata": {
        "id": "gOQ-rODe9DuN"
      },
      "source": [
        "### Solution"
      ]
    },
    {
      "cell_type": "markdown",
      "metadata": {
        "id": "KWJM2Ihq9FLk"
      },
      "source": [
        "All of the computations within and outside the `for` loop are $O(1)$. In all cases (best, worst, average), this implementation inspects all the $n$ elements of `arr` and the `for` loop has $n$ iterations. Therefore, this implementation has a best (and worst and average) case complexity of $O(n)$."
      ]
    }
  ],
  "metadata": {
    "colab": {
      "collapsed_sections": [
        "RlaKpbq6Hucy",
        "kEfIy5iiIdQM",
        "qMo1jMcjJRks",
        "rA_7tReQmG_S",
        "QQcPaXp5ZWh4",
        "i1js8BZ3ZXDo",
        "mvK3V6ATaSC7",
        "8Vw_C34hLRIJ",
        "vSPWUKPJaT0U",
        "bdCXDsTGda2U",
        "alhwAIH1TIA0",
        "TK9k3jmGSzvw",
        "C0EnSTxHaSuX"
      ],
      "name": "big_o.ipynb",
      "private_outputs": true,
      "provenance": []
    },
    "kernelspec": {
      "display_name": "Python 3",
      "name": "python3"
    }
  },
  "nbformat": 4,
  "nbformat_minor": 0
}
