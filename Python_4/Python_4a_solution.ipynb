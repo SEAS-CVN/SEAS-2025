{
  "cells": [
    {
      "cell_type": "markdown",
      "metadata": {
        "id": "wARQOkpsGYy7"
      },
      "source": [
        "# Graph Properties / Thuộc tính của đồ thị"
      ]
    },
    {
      "cell_type": "markdown",
      "metadata": {
        "id": "4dkWITS3LWUN"
      },
      "source": [
        "## Question 1"
      ]
    },
    {
      "cell_type": "markdown",
      "metadata": {
        "id": "uPJpLXl7dJFI"
      },
      "source": [
        "### Solution"
      ]
    },
    {
      "cell_type": "markdown",
      "metadata": {
        "id": "d35KWEw4dK8h"
      },
      "source": [
        "The correct answers are **b)** and **c)**.\n",
        "\n",
        "**a)** Those are properties of a node in a linked list and doubly linked list.\n",
        "\n",
        "**d)** There is no fundamental limit on the number of connections to other nodes that a node can store."
      ]
    },
    {
      "cell_type": "markdown",
      "metadata": {},
      "source": [
        "Câu trả lời đúng là **b)** và **c)**.\n",
        "\n",
        "**a)** Đây là các đặc điểm của một nút trong danh sách liên kết đơn và danh sách liên kết đôi.\n",
        "\n",
        "**d)** Không có giới hạn cơ bản về số lượng kết nối đến các nút khác mà một nút có thể lưu trữ.\n"
      ]
    },
    {
      "cell_type": "markdown",
      "metadata": {
        "id": "6Kfkq2HtAAW9"
      },
      "source": [
        "## Question 2"
      ]
    },
    {
      "cell_type": "markdown",
      "metadata": {
        "id": "RMYcmJLWig-G"
      },
      "source": [
        "### Solution"
      ]
    },
    {
      "cell_type": "markdown",
      "metadata": {
        "id": "W2YEhnZsig-G"
      },
      "source": [
        "The correct answers are **c)** and **d)**.\n",
        "\n",
        "**a)** By definition, a graph edge is created to represent a connection between two nodes.\n",
        "\n",
        "**b)** An edge only ever connects two nodes."
      ]
    },
    {
      "cell_type": "markdown",
      "metadata": {},
      "source": [
        "Câu trả lời đúng là **c)** và **d)**.\n",
        "\n",
        "**a)** Theo định nghĩa, một cạnh của đồ thị được tạo ra để biểu diễn một kết nối giữa hai nút.\n",
        "\n",
        "**b)** Một cạnh chỉ kết nối hai nút."
      ]
    },
    {
      "cell_type": "markdown",
      "metadata": {
        "id": "GWEnxQBPAw0Q"
      },
      "source": [
        "## Question 3"
      ]
    },
    {
      "cell_type": "markdown",
      "metadata": {
        "id": "e7Mk--3-jEhP"
      },
      "source": [
        "### Solution"
      ]
    },
    {
      "cell_type": "markdown",
      "metadata": {
        "id": "VBSnQHpejEhP"
      },
      "source": [
        "The correct answers are **a)** and **b)**.\n",
        "\n",
        "**c)** A graph may have nodes with no edges, and it is also valid to have a graph with no edges at all.\n",
        "\n",
        "**d)** Those are typically more common in linked lists or trees, which are specific types of graph."
      ]
    },
    {
      "cell_type": "markdown",
      "metadata": {},
      "source": [
        "Câu trả lời đúng là **a)** và **b)**.\n",
        "\n",
        "**c)** Một đồ thị có thể có các nút không có cạnh, và cũng hoàn toàn hợp lệ nếu một đồ thị không có bất kỳ cạnh nào.\n",
        "\n",
        "**d)** Những đặc điểm đó thường phổ biến hơn trong danh sách liên kết hoặc cây, vốn là những kiểu đồ thị cụ thể."
      ]
    },
    {
      "cell_type": "markdown",
      "metadata": {
        "id": "_acRKlPYIUj3"
      },
      "source": [
        "## Question 4"
      ]
    },
    {
      "cell_type": "markdown",
      "metadata": {
        "id": "FkNJ2Wghi6v0"
      },
      "source": [
        "### Solution"
      ]
    },
    {
      "cell_type": "markdown",
      "metadata": {
        "id": "Kn3LHu90i6v0"
      },
      "source": [
        "The correct answers are **b)** and **c)**.\n",
        "\n",
        "**a)** In Python, arrays have approximately constant runtime (it's amortized), since they most commonly already have the space for the new element allocated.\n",
        "\n",
        "**d)** This method only allocates a new array, which doesn't depend on the size of the list of nodes."
      ]
    },
    {
      "cell_type": "markdown",
      "metadata": {},
      "source": [
        "Câu trả lời đúng là **b)** và **c)**.\n",
        "\n",
        "**a)** Trong Python, mảng có thời gian chạy xấp xỉ hằng số (trung bình), vì thông thường chúng đã được cấp phát sẵn không gian cho phần tử mới.\n",
        "\n",
        "**d)** Phương thức này chỉ cấp phát một mảng mới, không phụ thuộc vào kích thước của danh sách các nút."
      ]
    },
    {
      "cell_type": "markdown",
      "metadata": {
        "id": "5TKCbrwuqkfm"
      },
      "source": [
        "## Question 5"
      ]
    },
    {
      "cell_type": "markdown",
      "metadata": {
        "id": "PSUApnSyqkfy"
      },
      "source": [
        "### Solution"
      ]
    },
    {
      "cell_type": "markdown",
      "metadata": {
        "id": "iHTIfuesqkfz"
      },
      "source": [
        "Since we're trying to count the number of connections between nodes, we can either count the number of nodes in a node's `connected_to` array or just return the length of it."
      ]
    },
    {
      "cell_type": "markdown",
      "metadata": {},
      "source": [
        "Vì chúng ta đang cố gắng đếm số lượng kết nối giữa các nút, nên ta có thể đếm số nút trong mảng `connected_to` của một nút hoặc đơn giản là trả về độ dài của mảng đó.\n"
      ]
    },
    {
      "cell_type": "code",
      "execution_count": null,
      "metadata": {
        "id": "wqo-KO1lqkfz"
      },
      "outputs": [],
      "source": [
        "class Node:\n",
        "\n",
        "  def __init__(self, name):\n",
        "    self.name = name\n",
        "    self.connected_to = []\n",
        "\n",
        "  def add_connection(self, node):\n",
        "    if node not in self.connected_to:\n",
        "      self.connected_to.append(node)\n",
        "    if self not in node.connected_to:\n",
        "      node.connected_to.append(self)\n",
        "\n",
        "  def __str__(self):\n",
        "    return '%s: %s' % (self.name, [node.name for node in self.connected_to])\n",
        "\n",
        "  def __repr__(self):\n",
        "    return '%s: %s' % (self.name, [node.name for node in self.connected_to])\n",
        "\n",
        "  def get_degree(self):\n",
        "    return len(self.connected_to)"
      ]
    },
    {
      "cell_type": "markdown",
      "metadata": {},
      "source": [
        "# Graph Representations / Biểu diễn đồ thị"
      ]
    },
    {
      "cell_type": "markdown",
      "metadata": {},
      "source": [
        "## Question 1"
      ]
    },
    {
      "cell_type": "markdown",
      "metadata": {},
      "source": [
        "### Solution"
      ]
    },
    {
      "cell_type": "markdown",
      "metadata": {},
      "source": [
        "The correct answers are **a)** and **b)**.\n",
        "\n",
        "**c)** Adjacency lists can be built with an edge class or a variety of other implementations to store information about edges."
      ]
    },
    {
      "cell_type": "markdown",
      "metadata": {},
      "source": [
        "Câu trả lời đúng là **a)** và **b)**.\n",
        "\n",
        "**c)** Các danh sách kề có thể được xây dựng với một lớp cạnh hoặc nhiều cách triển khai khác để lưu trữ thông tin về các cạnh."
      ]
    },
    {
      "cell_type": "markdown",
      "metadata": {},
      "source": [
        "## Question 2"
      ]
    },
    {
      "cell_type": "markdown",
      "metadata": {},
      "source": [
        "### Solution"
      ]
    },
    {
      "cell_type": "markdown",
      "metadata": {},
      "source": [
        "The correct answers are **b)**, **c)**, and **d)**.\n",
        "\n",
        "**a)** Certain graph implementations use numbers other than 0 or 1 to store the \"weight\" of an edge (for example, the length of a road between two cities, if the cities were nodes). In such cases, the numbers can be anything, and -1 is often used to indicate that two nodes are not connected."
      ]
    },
    {
      "cell_type": "markdown",
      "metadata": {},
      "source": [
        "Câu trả lời đúng là **b)**, **c)**, và **d)**.\n",
        "\n",
        "**a)** Một số triển khai đồ thị sử dụng các số khác ngoài 0 hoặc 1 để lưu trữ \"trọng số\" của một cạnh (ví dụ, chiều dài của con đường giữa hai thành phố, nếu các thành phố là các nút). Trong những trường hợp như vậy, các số có thể là bất kỳ giá trị nào, và -1 thường được sử dụng để chỉ ra rằng hai nút không được kết nối."
      ]
    },
    {
      "cell_type": "markdown",
      "metadata": {},
      "source": [
        "## Question 3"
      ]
    },
    {
      "cell_type": "markdown",
      "metadata": {},
      "source": [
        "### Solution"
      ]
    },
    {
      "cell_type": "markdown",
      "metadata": {},
      "source": [
        "The correct answers are **b)** and **c)**.\n",
        "\n",
        "**b)** While it's true that a *path* exists between every city, it isn't true that a *connection* exists between every city. There isn't a road from San Francisco to every other city in the United States! You'd need to pass through other cities on the way. This is a sparse graph, so it's probably better to represent this as an adjacency list."
      ]
    },
    {
      "cell_type": "markdown",
      "metadata": {},
      "source": [
        "Câu trả lời đúng là **b)** và **c)**.\n",
        "\n",
        "**b)** Mặc dù đúng là tồn tại một *đường đi* giữa mọi thành phố, nhưng không đúng là có một *kết nối* giữa mọi thành phố. Không có con đường trực tiếp từ San Francisco đến tất cả các thành phố khác ở Hoa Kỳ! Bạn sẽ phải đi qua các thành phố khác trên đường đi. Đây là một đồ thị thưa, vì vậy có thể tốt hơn khi biểu diễn nó dưới dạng danh sách kề.\n"
      ]
    },
    {
      "cell_type": "markdown",
      "metadata": {},
      "source": [
        "# Undirected, Directed, and Weighted Graphs / Đồ thị vô hướng, có hướng và có trọng số"
      ]
    },
    {
      "cell_type": "markdown",
      "metadata": {},
      "source": [
        "## Question 1"
      ]
    },
    {
      "cell_type": "markdown",
      "metadata": {},
      "source": [
        "### Solution"
      ]
    },
    {
      "cell_type": "markdown",
      "metadata": {},
      "source": [
        "All answers are incorrect.\n",
        "\n",
        "**a)** There's no restriction on self-loops for undirected graphs.\n",
        "\n",
        "**b)** The only connections that are guaranteed by that statement are $A \\rightarrow C$, $A \\rightarrow B$, $C \\rightarrow A$, and $B \\rightarrow A$.\n",
        "\n",
        "**c)** A graph can be undirected and weighted at the same time.\n",
        "\n",
        "**d)** There's no such restriction. When representing an undirected graph as an adjacency matrix, just remember that any $A \\rightarrow B$ connection implies a $B \\rightarrow A$ connection."
      ]
    },
    {
      "cell_type": "markdown",
      "metadata": {},
      "source": [
        "Tất cả câu trả lời đều sai.\n",
        "\n",
        "**a)** Không có sự hạn chế nào đối với các vòng lặp tự thân (self-loops) trong đồ thị vô hướng.\n",
        "\n",
        "**b)** Những kết nối duy nhất được đảm bảo bởi phát biểu đó là $A \\rightarrow C$, $A \\rightarrow B$, $C \\rightarrow A$, và $B \\rightarrow A$.\n",
        "\n",
        "**c)** Một đồ thị có thể vừa vô hướng vừa có trọng số cùng lúc.\n",
        "\n",
        "**d)** Không có sự hạn chế nào như vậy. Khi biểu diễn một đồ thị vô hướng dưới dạng ma trận kề, chỉ cần nhớ rằng bất kỳ kết nối $A \\rightarrow B$ nào cũng sẽ ngụ ý một kết nối $B \\rightarrow A$.\n"
      ]
    },
    {
      "cell_type": "markdown",
      "metadata": {},
      "source": [
        "## Question 2"
      ]
    },
    {
      "cell_type": "markdown",
      "metadata": {},
      "source": [
        "### Solution"
      ]
    },
    {
      "cell_type": "markdown",
      "metadata": {},
      "source": [
        "The correct answers are **a)** and **d)**.\n",
        "\n",
        "**b)** There's no restriction on reciprocal connections in directed graphs; they're just separate edges.\n",
        "\n",
        "**c)** Generally, a directed graph stores an undirected edge as two reciprocal directed edges. If you want something with directed and undirected edges, it's often better to store the edges that way to make the graph consistent (and easier for another person to understand)."
      ]
    },
    {
      "cell_type": "markdown",
      "metadata": {},
      "source": [
        "Các câu trả lời đúng là **a)** và **d)**.\n",
        "\n",
        "**b)** Không có hạn chế nào đối với các kết nối hai chiều trong đồ thị có hướng; chúng chỉ là các cạnh riêng biệt.\n",
        "\n",
        "**c)** Thông thường, một đồ thị có hướng lưu trữ một cạnh vô hướng dưới dạng hai cạnh hai chiều có hướng. Nếu bạn muốn một đồ thị có cả cạnh có hướng và vô hướng, thường thì tốt hơn là lưu trữ các cạnh theo cách đó để làm cho đồ thị nhất quán (và dễ hiểu hơn cho người khác).\n"
      ]
    },
    {
      "cell_type": "markdown",
      "metadata": {},
      "source": [
        "## Question 3"
      ]
    },
    {
      "cell_type": "markdown",
      "metadata": {},
      "source": [
        "### Solution"
      ]
    },
    {
      "cell_type": "markdown",
      "metadata": {},
      "source": [
        "The correct answers are **a)**, **c)**, and **f)**.\n",
        "\n",
        "**a)** Those are properties of a node in a linked list and doubly linked list.\n",
        "\n",
        "**b)** It's technically correct in the sense that all undirected graphs can be represented as a directed graph, but given that friendships are reciprocal, here, this graph is really more undirected.\n",
        "\n",
        "**d)** Generally, stairs can be used to go both up and down, so there's no reason this shouldn't be an undirected graph. This might change if the stairs are escalators, though!\n",
        "\n",
        "**e)** Highways are generally symmetrical (there aren't typically one-way highways), so if you have two cities connected via a highway that edge would typically be undirected."
      ]
    },
    {
      "cell_type": "markdown",
      "metadata": {},
      "source": [
        "Các câu trả lời đúng là **a)**, **c)** và **f)**.\n",
        "\n",
        "**a)** Đây là các đặc điểm của một nút trong danh sách liên kết và danh sách liên kết đôi.\n",
        "\n",
        "**b)** Về mặt kỹ thuật là đúng, vì tất cả các đồ thị vô hướng có thể được biểu diễn dưới dạng đồ thị có hướng, nhưng vì tình bạn là hai chiều, nên đồ thị này thực sự là vô hướng hơn.\n",
        "\n",
        "**d)** Thông thường, cầu thang có thể được sử dụng để đi lên và đi xuống, vì vậy không có lý do gì để nó không phải là đồ thị vô hướng. Tuy nhiên, điều này có thể thay đổi nếu cầu thang là thang cuốn!\n",
        "\n",
        "**e)** Các con đường cao tốc thường là hai chiều (thường không có cao tốc một chiều), vì vậy nếu có hai thành phố được kết nối qua một con đường cao tốc, cạnh đó thường sẽ là vô hướng.\n"
      ]
    },
    {
      "cell_type": "markdown",
      "metadata": {},
      "source": [
        "## Question 4"
      ]
    },
    {
      "cell_type": "markdown",
      "metadata": {},
      "source": [
        "### Solution"
      ]
    },
    {
      "cell_type": "markdown",
      "metadata": {},
      "source": [
        "The correct answers are **a)** and **b)**.\n",
        "\n",
        "**c)** You could imagine a graph where the edges are business decisions that might make the company money, with each edge's weight being how much money the company would make. If you would *lose* money from traveling along that edge, the edge weight could be negative. There are other examples; try coming up with some!\n",
        "\n",
        "**d)** There's no requirement for that to be the case. If that happens, then the cost of travelling along either of those edges is just the same."
      ]
    },
    {
      "cell_type": "markdown",
      "metadata": {},
      "source": [
        "Các câu trả lời đúng là **a)** và **b)**.\n",
        "\n",
        "**c)** Bạn có thể tưởng tượng một đồ thị trong đó các cạnh là các quyết định kinh doanh có thể mang lại lợi nhuận cho công ty, với trọng số của mỗi cạnh là số tiền công ty có thể kiếm được. Nếu bạn *mất* tiền khi di chuyển theo cạnh đó, trọng số của cạnh có thể là số âm. Có những ví dụ khác; thử nghĩ ra một số ví dụ!\n",
        "\n",
        "**d)** Không có yêu cầu nào để điều đó phải xảy ra. Nếu điều đó xảy ra, thì chi phí di chuyển theo bất kỳ cạnh nào trong số đó đều giống nhau.\n"
      ]
    },
    {
      "cell_type": "markdown",
      "metadata": {},
      "source": [
        "## Question 5"
      ]
    },
    {
      "cell_type": "markdown",
      "metadata": {},
      "source": [
        "### Solution"
      ]
    },
    {
      "cell_type": "markdown",
      "metadata": {},
      "source": [
        "All answers are correct."
      ]
    },
    {
      "cell_type": "markdown",
      "metadata": {},
      "source": [
        "Tất cả các câu trả lời đều đúng."
      ]
    },
    {
      "cell_type": "markdown",
      "metadata": {},
      "source": [
        "# Breadth-First Search (BFS) / Tìm kiếm theo chiều rộng# Breadth-First Search"
      ]
    },
    {
      "cell_type": "markdown",
      "metadata": {
        "id": "GWEnxQBPAw0Q"
      },
      "source": [
        "## Question 1"
      ]
    },
    {
      "cell_type": "markdown",
      "metadata": {
        "id": "uPJpLXl7dJFI"
      },
      "source": [
        "### Solution"
      ]
    },
    {
      "cell_type": "markdown",
      "metadata": {
        "id": "d35KWEw4dK8h"
      },
      "source": [
        "The correct answer is **a)**.\n",
        "\n",
        "**b)** Both breadth- and depth-first search have the same runtime complexity (though depending on your graph, one may complete more quickly than the other), namely $O(n)$ where $n$ is the total number of nodes.\n",
        "\n",
        "**c)** While breadth-first search does process nodes and their neighbors, it should visit any given node only once (by keeping track of the nodes it has visited). As a result, it runs in $O(n)$ time.\n",
        "\n",
        "**d)** Breadth-first search loops until it finds the node or sees every node in the graph. If you don't keep track of visited nodes, that loop could run forever.\n",
        "\n",
        "**e)** In the worst case, the search needs to visit every node. Both depth-first and breadth-first search should, if implemented well, visit each node exactly once, so both have a runtime complexity of $O(n)$."
      ]
    },
    {
      "cell_type": "markdown",
      "metadata": {},
      "source": [
        "Câu trả lời đúng là **a)**.\n",
        "\n",
        "**b)** Cả tìm kiếm theo chiều rộng và tìm kiếm theo chiều sâu đều có độ phức tạp thời gian giống nhau (mặc dù tùy thuộc vào đồ thị của bạn, một trong hai có thể hoàn thành nhanh hơn), cụ thể là $O(n)$ với $n$ là tổng số nút.\n",
        "\n",
        "**c)** Mặc dù tìm kiếm theo chiều rộng xử lý các nút và các nút kề của chúng, nhưng nó chỉ nên duyệt mỗi nút một lần (bằng cách theo dõi các nút đã được thăm). Do đó, nó có độ phức tạp thời gian là $O(n)$.\n",
        "\n",
        "**d)** Tìm kiếm theo chiều rộng lặp lại cho đến khi tìm thấy nút cần tìm hoặc đã duyệt qua tất cả các nút trong đồ thị. Nếu bạn không theo dõi các nút đã được thăm, vòng lặp đó có thể chạy vô hạn.\n",
        "\n",
        "**e)** Trong trường hợp xấu nhất, thuật toán phải thăm tất cả các nút. Cả tìm kiếm theo chiều rộng và chiều sâu, nếu được triển khai đúng cách, đều chỉ thăm mỗi nút đúng một lần, vì vậy cả hai đều có độ phức tạp thời gian là $O(n)$.\n"
      ]
    },
    {
      "cell_type": "markdown",
      "metadata": {},
      "source": [
        "# Depth-First Search"
      ]
    },
    {
      "cell_type": "markdown",
      "metadata": {
        "id": "GWEnxQBPAw0Q"
      },
      "source": [
        "## Question 1"
      ]
    },
    {
      "cell_type": "markdown",
      "metadata": {
        "id": "uPJpLXl7dJFI"
      },
      "source": [
        "### Solution"
      ]
    },
    {
      "cell_type": "markdown",
      "metadata": {
        "id": "d35KWEw4dK8h"
      },
      "source": [
        "The correct answers are **c)** and **d)**.\n",
        "\n",
        "**a)** While DFS does process nodes recursively, it still can potentially visit every node in the graph. As a result, it runs in linear time.\n",
        "\n",
        "**b)** DFS traverses the graph and visits every node, so the start node is largely unimportant. If your graph is not fully connected, however, you need to make sure that you start a depth-first search from at least one node in each connected component."
      ]
    },
    {
      "cell_type": "markdown",
      "metadata": {},
      "source": [
        "Các câu trả lời đúng là **c)** và **d)**.\n",
        "\n",
        "**a)** Mặc dù DFS xử lý các nút bằng đệ quy, nó vẫn có thể duyệt qua tất cả các nút trong đồ thị. Do đó, nó chạy trong thời gian tuyến tính.\n",
        "\n",
        "**b)** DFS duyệt qua đồ thị và thăm mọi nút, vì vậy nút bắt đầu không quá quan trọng. Tuy nhiên, nếu đồ thị của bạn không được kết nối đầy đủ, bạn cần đảm bảo rằng bạn bắt đầu tìm kiếm theo chiều sâu từ ít nhất một nút trong mỗi thành phần liên thông.\n"
      ]
    }
  ],
  "metadata": {
    "colab": {
      "collapsed_sections": [],
      "name": "Graph Properties",
      "provenance": []
    },
    "kernelspec": {
      "display_name": "Python 3",
      "name": "python3"
    }
  },
  "nbformat": 4,
  "nbformat_minor": 0
}
