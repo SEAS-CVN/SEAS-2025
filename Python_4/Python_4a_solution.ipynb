{
  "cells": [
    {
      "cell_type": "markdown",
      "metadata": {
        "id": "wARQOkpsGYy7"
      },
      "source": [
        "# Graph Properties"
      ]
    },
    {
      "cell_type": "markdown",
      "metadata": {
        "id": "4dkWITS3LWUN"
      },
      "source": [
        "## Question 1"
      ]
    },
    {
      "cell_type": "markdown",
      "metadata": {
        "id": "uPJpLXl7dJFI"
      },
      "source": [
        "### Solution"
      ]
    },
    {
      "cell_type": "markdown",
      "metadata": {
        "id": "d35KWEw4dK8h"
      },
      "source": [
        "The correct answers are **b)** and **c)**.\n",
        "\n",
        "**a)** Those are properties of a node in a linked list and doubly linked list.\n",
        "\n",
        "**d)** There is no fundamental limit on the number of connections to other nodes that a node can store."
      ]
    },
    {
      "cell_type": "markdown",
      "metadata": {
        "id": "6Kfkq2HtAAW9"
      },
      "source": [
        "## Question 2"
      ]
    },
    {
      "cell_type": "markdown",
      "metadata": {
        "id": "RMYcmJLWig-G"
      },
      "source": [
        "### Solution"
      ]
    },
    {
      "cell_type": "markdown",
      "metadata": {
        "id": "W2YEhnZsig-G"
      },
      "source": [
        "The correct answers are **c)** and **d)**.\n",
        "\n",
        "**a)** By definition, a graph edge is created to represent a connection between two nodes.\n",
        "\n",
        "**b)** An edge only ever connects two nodes."
      ]
    },
    {
      "cell_type": "markdown",
      "metadata": {
        "id": "GWEnxQBPAw0Q"
      },
      "source": [
        "## Question 3"
      ]
    },
    {
      "cell_type": "markdown",
      "metadata": {
        "id": "e7Mk--3-jEhP"
      },
      "source": [
        "### Solution"
      ]
    },
    {
      "cell_type": "markdown",
      "metadata": {
        "id": "VBSnQHpejEhP"
      },
      "source": [
        "The correct answers are **a)** and **b)**.\n",
        "\n",
        "**c)** A graph may have nodes with no edges, and it is also valid to have a graph with no edges at all.\n",
        "\n",
        "**d)** Those are typically more common in linked lists or trees, which are specific types of graph."
      ]
    },
    {
      "cell_type": "markdown",
      "metadata": {
        "id": "_acRKlPYIUj3"
      },
      "source": [
        "## Question 4"
      ]
    },
    {
      "cell_type": "markdown",
      "metadata": {
        "id": "FkNJ2Wghi6v0"
      },
      "source": [
        "### Solution"
      ]
    },
    {
      "cell_type": "markdown",
      "metadata": {
        "id": "Kn3LHu90i6v0"
      },
      "source": [
        "The correct answers are **b)** and **c)**.\n",
        "\n",
        "**a)** In Python, arrays have approximately constant runtime (it's amortized), since they most commonly already have the space for the new element allocated.\n",
        "\n",
        "**d)** This method only allocates a new array, which doesn't depend on the size of the list of nodes."
      ]
    },
    {
      "cell_type": "markdown",
      "metadata": {
        "id": "5TKCbrwuqkfm"
      },
      "source": [
        "## Question 5"
      ]
    },
    {
      "cell_type": "markdown",
      "metadata": {
        "id": "PSUApnSyqkfy"
      },
      "source": [
        "### Solution"
      ]
    },
    {
      "cell_type": "markdown",
      "metadata": {
        "id": "iHTIfuesqkfz"
      },
      "source": [
        "Since we're trying to count the number of connections between nodes, we can either count the number of nodes in a node's `connected_to` array or just return the length of it."
      ]
    },
    {
      "cell_type": "code",
      "execution_count": null,
      "metadata": {
        "id": "wqo-KO1lqkfz"
      },
      "outputs": [],
      "source": [
        "class Node:\n",
        "\n",
        "  def __init__(self, name):\n",
        "    self.name = name\n",
        "    self.connected_to = []\n",
        "\n",
        "  def add_connection(self, node):\n",
        "    if node not in self.connected_to:\n",
        "      self.connected_to.append(node)\n",
        "    if self not in node.connected_to:\n",
        "      node.connected_to.append(self)\n",
        "\n",
        "  def __str__(self):\n",
        "    return '%s: %s' % (self.name, [node.name for node in self.connected_to])\n",
        "\n",
        "  def __repr__(self):\n",
        "    return '%s: %s' % (self.name, [node.name for node in self.connected_to])\n",
        "\n",
        "  def get_degree(self):\n",
        "    return len(self.connected_to)"
      ]
    },
    {
      "cell_type": "markdown",
      "metadata": {},
      "source": [
        "# Graph Representations"
      ]
    },
    {
      "cell_type": "markdown",
      "metadata": {},
      "source": [
        "## Question 1"
      ]
    },
    {
      "cell_type": "markdown",
      "metadata": {},
      "source": [
        "### Solution"
      ]
    },
    {
      "cell_type": "markdown",
      "metadata": {},
      "source": [
        "The correct answers are **a)** and **b)**.\n",
        "\n",
        "**c)** Adjacency lists can be built with an edge class or a variety of other implementations to store information about edges."
      ]
    },
    {
      "cell_type": "markdown",
      "metadata": {},
      "source": [
        "## Question 2"
      ]
    },
    {
      "cell_type": "markdown",
      "metadata": {},
      "source": [
        "### Solution"
      ]
    },
    {
      "cell_type": "markdown",
      "metadata": {},
      "source": [
        "The correct answers are **b)**, **c)**, and **d)**.\n",
        "\n",
        "**a)** Certain graph implementations use numbers other than 0 or 1 to store the \"weight\" of an edge (for example, the length of a road between two cities, if the cities were nodes). In such cases, the numbers can be anything, and -1 is often used to indicate that two nodes are not connected."
      ]
    },
    {
      "cell_type": "markdown",
      "metadata": {},
      "source": [
        "## Question 3"
      ]
    },
    {
      "cell_type": "markdown",
      "metadata": {},
      "source": [
        "### Solution"
      ]
    },
    {
      "cell_type": "markdown",
      "metadata": {},
      "source": [
        "The correct answers are **b)** and **c)**.\n",
        "\n",
        "**b)** While it's true that a *path* exists between every city, it isn't true that a *connection* exists between every city. There isn't a road from San Francisco to every other city in the United States! You'd need to pass through other cities on the way. This is a sparse graph, so it's probably better to represent this as an adjacency list."
      ]
    },
    {
      "cell_type": "markdown",
      "metadata": {},
      "source": [
        "# Undirected, Directed, and Weighted Graphs"
      ]
    },
    {
      "cell_type": "markdown",
      "metadata": {},
      "source": [
        "## Question 1"
      ]
    },
    {
      "cell_type": "markdown",
      "metadata": {},
      "source": [
        "### Solution"
      ]
    },
    {
      "cell_type": "markdown",
      "metadata": {},
      "source": [
        "All answers are incorrect.\n",
        "\n",
        "**a)** There's no restriction on self-loops for undirected graphs.\n",
        "\n",
        "**b)** The only connections that are guaranteed by that statement are $A \\rightarrow C$, $A \\rightarrow B$, $C \\rightarrow A$, and $B \\rightarrow A$.\n",
        "\n",
        "**c)** A graph can be undirected and weighted at the same time.\n",
        "\n",
        "**d)** There's no such restriction. When representing an undirected graph as an adjacency matrix, just remember that any $A \\rightarrow B$ connection implies a $B \\rightarrow A$ connection."
      ]
    },
    {
      "cell_type": "markdown",
      "metadata": {},
      "source": [
        "## Question 2"
      ]
    },
    {
      "cell_type": "markdown",
      "metadata": {},
      "source": [
        "### Solution"
      ]
    },
    {
      "cell_type": "markdown",
      "metadata": {},
      "source": [
        "The correct answers are **a)** and **d)**.\n",
        "\n",
        "**b)** There's no restriction on reciprocal connections in directed graphs; they're just separate edges.\n",
        "\n",
        "**c)** Generally, a directed graph stores an undirected edge as two reciprocal directed edges. If you want something with directed and undirected edges, it's often better to store the edges that way to make the graph consistent (and easier for another person to understand)."
      ]
    },
    {
      "cell_type": "markdown",
      "metadata": {},
      "source": [
        "## Question 3"
      ]
    },
    {
      "cell_type": "markdown",
      "metadata": {},
      "source": [
        "### Solution"
      ]
    },
    {
      "cell_type": "markdown",
      "metadata": {},
      "source": [
        "The correct answers are **a)**, **c)**, and **f)**.\n",
        "\n",
        "**a)** Those are properties of a node in a linked list and doubly linked list.\n",
        "\n",
        "**b)** It's technically correct in the sense that all undirected graphs can be represented as a directed graph, but given that friendships are reciprocal, here, this graph is really more undirected.\n",
        "\n",
        "**d)** Generally, stairs can be used to go both up and down, so there's no reason this shouldn't be an undirected graph. This might change if the stairs are escalators, though!\n",
        "\n",
        "**e)** Highways are generally symmetrical (there aren't typically one-way highways), so if you have two cities connected via a highway that edge would typically be undirected."
      ]
    },
    {
      "cell_type": "markdown",
      "metadata": {},
      "source": [
        "## Question 4"
      ]
    },
    {
      "cell_type": "markdown",
      "metadata": {},
      "source": [
        "### Solution"
      ]
    },
    {
      "cell_type": "markdown",
      "metadata": {},
      "source": [
        "The correct answers are **a)** and **b)**.\n",
        "\n",
        "**c)** You could imagine a graph where the edges are business decisions that might make the company money, with each edge's weight being how much money the company would make. If you would *lose* money from traveling along that edge, the edge weight could be negative. There are other examples; try coming up with some!\n",
        "\n",
        "**d)** There's no requirement for that to be the case. If that happens, then the cost of travelling along either of those edges is just the same."
      ]
    },
    {
      "cell_type": "markdown",
      "metadata": {},
      "source": [
        "## Question 5"
      ]
    },
    {
      "cell_type": "markdown",
      "metadata": {},
      "source": [
        "### Solution"
      ]
    },
    {
      "cell_type": "markdown",
      "metadata": {},
      "source": [
        "All answers are correct."
      ]
    },
    {
      "cell_type": "markdown",
      "metadata": {},
      "source": [
        "# Breadth-First Search"
      ]
    },
    {
      "cell_type": "markdown",
      "metadata": {
        "id": "GWEnxQBPAw0Q"
      },
      "source": [
        "## Question 1"
      ]
    },
    {
      "cell_type": "markdown",
      "metadata": {
        "id": "uPJpLXl7dJFI"
      },
      "source": [
        "### Solution"
      ]
    },
    {
      "cell_type": "markdown",
      "metadata": {
        "id": "d35KWEw4dK8h"
      },
      "source": [
        "The correct answer is **a)**.\n",
        "\n",
        "**b)** Both breadth- and depth-first search have the same runtime complexity (though depending on your graph, one may complete more quickly than the other), namely $O(n)$ where $n$ is the total number of nodes.\n",
        "\n",
        "**c)** While breadth-first search does process nodes and their neighbors, it should visit any given node only once (by keeping track of the nodes it has visited). As a result, it runs in $O(n)$ time.\n",
        "\n",
        "**d)** Breadth-first search loops until it finds the node or sees every node in the graph. If you don't keep track of visited nodes, that loop could run forever.\n",
        "\n",
        "**e)** In the worst case, the search needs to visit every node. Both depth-first and breadth-first search should, if implemented well, visit each node exactly once, so both have a runtime complexity of $O(n)$."
      ]
    },
    {
      "cell_type": "markdown",
      "metadata": {},
      "source": [
        "# Depth-First Search"
      ]
    },
    {
      "cell_type": "markdown",
      "metadata": {
        "id": "GWEnxQBPAw0Q"
      },
      "source": [
        "## Question 1"
      ]
    },
    {
      "cell_type": "markdown",
      "metadata": {
        "id": "uPJpLXl7dJFI"
      },
      "source": [
        "### Solution"
      ]
    },
    {
      "cell_type": "markdown",
      "metadata": {
        "id": "d35KWEw4dK8h"
      },
      "source": [
        "The correct answers are **c)** and **d)**.\n",
        "\n",
        "**a)** While DFS does process nodes recursively, it still can potentially visit every node in the graph. As a result, it runs in linear time.\n",
        "\n",
        "**b)** DFS traverses the graph and visits every node, so the start node is largely unimportant. If your graph is not fully connected, however, you need to make sure that you start a depth-first search from at least one node in each connected component."
      ]
    }
  ],
  "metadata": {
    "colab": {
      "collapsed_sections": [],
      "name": "Graph Properties",
      "provenance": []
    },
    "kernelspec": {
      "display_name": "Python 3",
      "name": "python3"
    }
  },
  "nbformat": 4,
  "nbformat_minor": 0
}
