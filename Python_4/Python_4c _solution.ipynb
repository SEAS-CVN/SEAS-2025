{
  "cells": [
    {
      "cell_type": "markdown",
      "metadata": {
        "id": "yDMOMvr-bh9o"
      },
      "source": [
        "# Bubble Sort"
      ]
    },
    {
      "cell_type": "markdown",
      "metadata": {
        "id": "tYrM6-FyuYMu"
      },
      "source": [
        "## Question 1"
      ]
    },
    {
      "cell_type": "markdown",
      "metadata": {
        "id": "Gb8sBeafu4Mw"
      },
      "source": [
        "### Solution"
      ]
    },
    {
      "cell_type": "markdown",
      "metadata": {
        "id": "Jd2SiucMvDKh"
      },
      "source": [
        "The following table outlines how the original array [2, 1, 4, 5, 2, 3, 7, 6] changes by iteration."
      ]
    },
    {
      "cell_type": "markdown",
      "metadata": {
        "id": "qK3zPY1Xz-d_"
      },
      "source": [
        "Iteration | Indices | Swap? | Array after iteration\n",
        "--------- | ------- | ----- | --------------------------\n",
        "0         | 0, 1    | Yes   | [1, 2, 4, 5, 2, 3, 7, 6]\n",
        "1         | 1, 2    | No    | [1, 2, 4, 5, 2, 3, 7, 6]\n",
        "2         | 2, 3    | No    | [1, 2, 4, 5, 2, 3, 7, 6]\n",
        "3         | 3, 4    | Yes   | [1, 2, 4, 2, 5, 3, 7, 6]\n",
        "4         | 4, 5    | Yes   | [1, 2, 4, 2, 3, 5, 7, 6]\n",
        "5         | 5, 6    | No    | [1, 2, 4, 2, 3, 5, 7, 6]\n",
        "6         | 6, 7    | Yes   | [1, 2, 4, 2, 3, 5, 6, 7]"
      ]
    },
    {
      "cell_type": "markdown",
      "metadata": {
        "id": "N7yqxn5Z5OvI"
      },
      "source": [
        "## Question 2"
      ]
    },
    {
      "cell_type": "markdown",
      "metadata": {
        "id": "eTadZjVf6cGT"
      },
      "source": [
        "### Solution"
      ]
    },
    {
      "cell_type": "code",
      "execution_count": null,
      "metadata": {
        "id": "MxDa__NO6ahI"
      },
      "outputs": [],
      "source": [
        "def swap_out_of_order_pairs(arr):\n",
        "  \"\"\"Iterate through consecutive pairs and swap them if out of order.\"\"\"\n",
        "  for i in range(len(arr) - 1):\n",
        "    if arr[i] > arr[i + 1]:\n",
        "      arr[i], arr[i + 1] = arr[i + 1], arr[i]\n",
        "  \n",
        "  return arr"
      ]
    },
    {
      "cell_type": "markdown",
      "metadata": {
        "id": "5_USMGQXaApK"
      },
      "source": [
        "# Insertion Sort"
      ]
    },
    {
      "cell_type": "markdown",
      "metadata": {
        "id": "sMFaqHjnm10W"
      },
      "source": [
        "## Question 1"
      ]
    },
    {
      "cell_type": "markdown",
      "metadata": {
        "id": "exda7mOlMnxh"
      },
      "source": [
        "### Solution"
      ]
    },
    {
      "cell_type": "code",
      "execution_count": null,
      "metadata": {
        "id": "zCDTKwbFM4B3"
      },
      "outputs": [],
      "source": [
        "def insert_into_sorted_array(arr, el):\n",
        "  \"\"\"Inserts an integer el into arr, an array of sorted integers.\"\"\"\n",
        "\n",
        "  # Iterate through arr and insert el at the first position whose value is\n",
        "  # greater than or equal to el. If a value, exit the function.\n",
        "  for i in range(len(arr)):\n",
        "    if el <= arr[i]:\n",
        "      arr.insert(i, el)\n",
        "      return\n",
        "\n",
        "  # If no element was found in arr whose value is greater than or equal to el,\n",
        "  # insert el at the end of arr.\n",
        "  arr.append(el)"
      ]
    },
    {
      "cell_type": "markdown",
      "metadata": {
        "id": "IobycsEITFLC"
      },
      "source": [
        "# Selection Sort"
      ]
    },
    {
      "cell_type": "markdown",
      "metadata": {
        "id": "MxSN2DYZUA4p"
      },
      "source": [
        "## Question 1"
      ]
    },
    {
      "cell_type": "markdown",
      "metadata": {
        "id": "iTUONZpRUDR1"
      },
      "source": [
        "### Solution"
      ]
    },
    {
      "cell_type": "code",
      "execution_count": null,
      "metadata": {
        "id": "1_h-gxH3UEx7"
      },
      "outputs": [],
      "source": [
        "def minimum_index(arr):\n",
        "  \"\"\"Returns the index of the minimum value within a numerical array.\"\"\"\n",
        "  # Initialize the minimum index.\n",
        "  min_index = -1\n",
        "  # Initialize the minimum value. Infinity is the standard initialization for\n",
        "  # such functions, since every integer is less than infinity.\n",
        "  min_value = float(\"Inf\")\n",
        "\n",
        "  # Iterate through the input array list.\n",
        "  for i in range(len(arr)):\n",
        "    # Reset min_index and min_value if you find a value lower than min_value.\n",
        "    if arr[i] < min_value:\n",
        "      min_index = i\n",
        "      min_value = arr[i]\n",
        "  \n",
        "  return min_index"
      ]
    },
    {
      "cell_type": "markdown",
      "metadata": {
        "id": "q1pPyRrkOAWN"
      },
      "source": [
        "## Question 2"
      ]
    },
    {
      "cell_type": "markdown",
      "metadata": {
        "id": "W50WlY8fOKSH"
      },
      "source": [
        "### Solution"
      ]
    },
    {
      "cell_type": "markdown",
      "metadata": {
        "id": "U_ubkurlOLgY"
      },
      "source": [
        "All of the single-line operations in `minimum_index` are $O(1)$. Therefore the time complexity of `minimum_index` is the number of iterations of the `for` loop. In all cases, the loop iterates over all $n$ elements of `arr`, so time complexity is $O(n)$ in the best, worst, and average case."
      ]
    },
    {
      "cell_type": "markdown",
      "metadata": {
        "id": "fkgw_3aiIDZZ"
      },
      "source": [
        "# Linear Search"
      ]
    },
    {
      "cell_type": "markdown",
      "metadata": {
        "id": "BzXugkDzKjkS"
      },
      "source": [
        "## Question 1"
      ]
    },
    {
      "cell_type": "markdown",
      "metadata": {
        "id": "rWcDSx2vK2Ko"
      },
      "source": [
        "### Solution"
      ]
    },
    {
      "cell_type": "code",
      "execution_count": null,
      "metadata": {
        "id": "YQFm5FKRKupT"
      },
      "outputs": [],
      "source": [
        "def linear_search(arr, v):\n",
        "  \"\"\"Searches a list of integers arr for a value v.\"\"\"\n",
        "  for i in range(len(arr)):\n",
        "    if arr[i] == v:\n",
        "      return i\n",
        "\n",
        "  return -1"
      ]
    },
    {
      "cell_type": "markdown",
      "metadata": {
        "id": "Bc7UaUFAL5pJ"
      },
      "source": [
        "## Question 2"
      ]
    },
    {
      "cell_type": "markdown",
      "metadata": {
        "id": "Fjj416UZMeBC"
      },
      "source": [
        "### Solution"
      ]
    },
    {
      "cell_type": "markdown",
      "metadata": {
        "id": "9eysDwUsMfwd"
      },
      "source": [
        "In the best case, `linear_search` finds `v` in the very first iteration of the `for` loop, at index 0. In this case, the algorithm requires 1 iteration, so has a time complexity of $O(1)$."
      ]
    },
    {
      "cell_type": "markdown",
      "metadata": {
        "id": "pWXluPLt74SS"
      },
      "source": [
        "## Question 3"
      ]
    },
    {
      "cell_type": "markdown",
      "metadata": {
        "id": "DNoeZqqz7-_2"
      },
      "source": [
        "### Solution"
      ]
    },
    {
      "cell_type": "markdown",
      "metadata": {
        "id": "fvRETK4V7_yp"
      },
      "source": [
        "In the worst case, `linear_search` needs to check every element of `arr` before either concluding that `v` is not in `arr` or that `v` is the last element of `arr`. In this case, the algorithm requires all $n$ iterations of the `for` loop (where $n$ is the length of `arr`), so has a time complexity of $O(n)$."
      ]
    },
    {
      "cell_type": "markdown",
      "metadata": {
        "id": "e7_WHZm7WCrO"
      },
      "source": [
        "## Question 4"
      ]
    },
    {
      "cell_type": "markdown",
      "metadata": {
        "id": "y7hXLXrvWEaR"
      },
      "source": [
        "### Solution"
      ]
    },
    {
      "cell_type": "code",
      "execution_count": null,
      "metadata": {
        "id": "Lfhe_5Q6nrnS"
      },
      "outputs": [],
      "source": [
        "def count_occurrences(arr, v):\n",
        "  \"\"\"Returns the number of times the value v appears in arr.\"\"\"\n",
        "  count = 0\n",
        "\n",
        "  for i in arr:\n",
        "    if i == v:\n",
        "      count += 1\n",
        "  \n",
        "  return count"
      ]
    },
    {
      "cell_type": "markdown",
      "metadata": {
        "id": "JacjR-75g2wk"
      },
      "source": [
        "# Binary Search"
      ]
    },
    {
      "cell_type": "markdown",
      "metadata": {
        "id": "_2ucbgN8fdo_"
      },
      "source": [
        "## Question 1"
      ]
    },
    {
      "cell_type": "markdown",
      "metadata": {
        "id": "Twrw4jASHMht"
      },
      "source": [
        "### Solution "
      ]
    },
    {
      "cell_type": "markdown",
      "metadata": {
        "id": "UuCkc2uUHTMk"
      },
      "source": [
        "The correct answers are **b)** and **c)**. \n",
        "\n",
        "**a)** This would make binary search slower than linear search, as linear search is $O(n)$ in the average case. \n",
        "\n",
        "**d)** If implemented well, binary search requires no new space allocation."
      ]
    },
    {
      "cell_type": "markdown",
      "metadata": {
        "id": "d-vd2iJjNikg"
      },
      "source": [
        "## Question 2"
      ]
    },
    {
      "cell_type": "markdown",
      "metadata": {
        "id": "QCCMK8MAs4Qw"
      },
      "source": [
        "### Solution"
      ]
    },
    {
      "cell_type": "code",
      "execution_count": null,
      "metadata": {
        "id": "uYiJli8YtDbg"
      },
      "outputs": [],
      "source": [
        "def binary_search_iterative(arr, v):\n",
        "  \"\"\"Searches a sorted list of integers arr for a value v.\n",
        "  \n",
        "  Returns the index i at which arr[i] == v, or -1 if no such i exists.\n",
        "  \"\"\"\n",
        "  # These values describe the indices of the array to be searched. This is\n",
        "  # initialized as the entire array.\n",
        "  low_index = 0\n",
        "  high_index = len(arr) # This can also be len(arr) - 1.\n",
        "  \n",
        "  # Calculate the middle index of the search array.\n",
        "  while low_index <= high_index:\n",
        "    middle_index = (high_index + low_index) // 2\n",
        "    middle_value = arr[middle_index]\n",
        "    \n",
        "    # If the middle value is less than the search value, the right array becomes\n",
        "    # the new search array.\n",
        "    if middle_value < v:\n",
        "      low_index = middle_index + 1\n",
        "    # If the middle value is greater than the search value, the left array\n",
        "    # becomes the new search array.\n",
        "    elif middle_value > v:\n",
        "      high_index = middle_index - 1\n",
        "    # If the middle value equals the search value, the search is done. Exit the\n",
        "    # loop and return the index.\n",
        "    else:\n",
        "      return middle_index\n",
        "  \n",
        "  return -1"
      ]
    },
    {
      "cell_type": "markdown",
      "metadata": {
        "id": "jGldAINQOV1E"
      },
      "source": [
        "## Question 3"
      ]
    },
    {
      "cell_type": "markdown",
      "metadata": {
        "id": "Znrpatef6WRi"
      },
      "source": [
        "### Solution"
      ]
    },
    {
      "cell_type": "markdown",
      "metadata": {
        "id": "btDX9sHGLK3q"
      },
      "source": [
        "The best case occurs when the `middle_value` of the first iteration is equal to the search value. In this case, the algorithm succeeds in only one iteration, so the best case time complexity is $O(1)$."
      ]
    }
  ],
  "metadata": {
    "colab": {
      "collapsed_sections": [],
      "name": "bubble_sort.ipynb",
      "private_outputs": true,
      "provenance": []
    },
    "kernelspec": {
      "display_name": "Python 3",
      "name": "python3"
    }
  },
  "nbformat": 4,
  "nbformat_minor": 0
}
